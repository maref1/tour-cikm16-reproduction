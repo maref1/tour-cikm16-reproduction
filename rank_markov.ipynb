{
 "cells": [
  {
   "cell_type": "markdown",
   "metadata": {
    "collapsed": true
   },
   "source": [
    "# Trajectory Recommendation using RankSVM and Factorised Markov Chain"
   ]
  },
  {
   "cell_type": "markdown",
   "metadata": {},
   "source": [
    "<a id='toc'></a>"
   ]
  },
  {
   "cell_type": "markdown",
   "metadata": {},
   "source": [
    "[Table of Contents](#toc)\n",
    "1. [Preprocess Dataset](#1.-Preprocess-Dataset)\n",
    "  1. [Load Data](#1.1-Load-Data)\n",
    "  1. [Utility Functions](#1.2-Utility-Functions)\n",
    "1. [POI Ranking](#2.-POI-Ranking)\n",
    "  1. [POI Features for Ranking](#2.1-POI-Features-for-Ranking)\n",
    "  1. [Training DataFrame](#2.2-Training-DataFrame)\n",
    "  1. [Test DataFrame](#2.3-Test-DataFrame)\n",
    "  1. [Ranking POIs using rankSVM](#2.4-Ranking-POIs-using-rankSVM)\n",
    "1. [Factorised Transition Probabilities between POIs](#3.-Factorised-Transition-Probabilities-between-POIs)\n",
    "  1. [POI Features for Factorisation](#3.1-POI-Features-for-Factorisation)\n",
    "  1. [Transition Matrix between POI Cateogries](#3.2-Transition-Matrix-between-POI-Cateogries)\n",
    "  1. [Transition Matrix between POI Popularity Classes](#3.3-Transition-Matrix-between-POI-Popularity-Classes)\n",
    "  1. [Transition Matrix between the Number of POI Visit Classes](#3.4-Transition-Matrix-between-the-Number-of-POI-Visit-Classes)\n",
    "  1. [Transition Matrix between POI Average Visit Duration Classes](#3.5-Transition-Matrix-between-POI-Average-Visit-Duration-Classes)\n",
    "  1. [Transition Matrix between POI Neighborhood Classes](#3.6-Transition-Matrix-between-POI-Neighborhood-Classes)\n",
    "  1. [Visualise Transition Matrices for Individual Features](#3.7-Visualise-Transition-Matrices-for-Individual-Features)\n",
    "  1. [Transition Matrix between POIs](#3.8-Transition-Matrix-between-POIs)\n",
    "1. [Trajectory Recommendation - Leave-one-out Evaluation](#4.-Trajectory-Recommendation---Leave-one-out-Evaluation)\n",
    "1. [Random Guessing](#5.-Random-Guessing)"
   ]
  },
  {
   "cell_type": "markdown",
   "metadata": {},
   "source": [
    "**Usage: **\n",
    "1. Install [RankSVM implementation](https://www.csie.ntu.edu.tw/~cjlin/libsvmtools/#large_scale_ranksvm) and assign the directory/path to variable `ranksvm_dir`.\n",
    "1. Install Python modules imported by this notebook.\n",
    "1. Please change the value of index variable `dat_ix` (feasible values: `0, 1, 2, 3, 4`) to run this notebook on different dataset, results (.pkl file) will be saved in directory indicated by variable `data_dir`. "
   ]
  },
  {
   "cell_type": "markdown",
   "metadata": {},
   "source": [
    "# 1. Preprocess Dataset"
   ]
  },
  {
   "cell_type": "code",
   "execution_count": 99,
   "metadata": {},
   "outputs": [],
   "source": [
    "%matplotlib inline\n",
    "\n",
    "import os, sys, time, pickle, tempfile\n",
    "import math, random, itertools\n",
    "import pandas as pd\n",
    "import numpy as np\n",
    "from scipy.linalg import kron\n",
    "import scipy\n",
    "\n",
    "import matplotlib.pyplot as plt\n",
    "import seaborn as sns\n",
    "\n",
    "from sklearn.cluster import KMeans\n",
    "import sklearn\n",
    "from joblib import Parallel, delayed\n",
    "import joblib\n",
    "import cython\n",
    "import pulp\n",
    "import sys"
   ]
  },
  {
   "cell_type": "code",
   "execution_count": 104,
   "metadata": {},
   "outputs": [
    {
     "name": "stdout",
     "output_type": "stream",
     "text": [
      "3.7.6 (default, Jan  8 2020, 20:23:39) [MSC v.1916 64 bit (AMD64)]\n",
      "1.1.5\n",
      "1.19.4\n",
      "1.4.1\n",
      "0.22.1\n",
      "0.14.1\n",
      "0.29.15\n",
      "2.4\n",
      "0.10.0\n"
     ]
    }
   ],
   "source": [
    "print(sys.version)\n",
    "print(pd.__version__)\n",
    "print(np.__version__)\n",
    "print(scipy.__version__)\n",
    "print(sklearn.__version__)\n",
    "print(joblib.__version__)\n",
    "print(cython.__version__)\n",
    "print(pulp.__version__)\n",
    "print(sns.__version__)"
   ]
  },
  {
   "cell_type": "code",
   "execution_count": 2,
   "metadata": {},
   "outputs": [],
   "source": [
    "random.seed(1234567890)\n",
    "np.random.seed(1234567890)\n",
    "LOG_SMALL = -10\n",
    "LOG_ZERO = -1000\n",
    "# ranksvm_dir = '$HOME/work/ranksvm'  # directory that contains rankSVM binaries: train, predict, svm-scale\n",
    "ranksvm_dir = r\"C:\\Users\\Marek\\Skola\\TU\\exp_design_temp\\libsvm-ranksvm-3.24\\windows\"  # directory that contains rankSVM binaries: train, predict, svm-scale"
   ]
  },
  {
   "cell_type": "code",
   "execution_count": 3,
   "metadata": {},
   "outputs": [],
   "source": [
    "data_dir = 'data'\n",
    "dat_suffix = ['Osak', 'Glas', 'Edin', 'Toro', 'Melb']"
   ]
  },
  {
   "cell_type": "code",
   "execution_count": 4,
   "metadata": {},
   "outputs": [],
   "source": [
    "dat_ix = 0"
   ]
  },
  {
   "cell_type": "markdown",
   "metadata": {},
   "source": [
    "Hyperparameters."
   ]
  },
  {
   "cell_type": "code",
   "execution_count": 5,
   "metadata": {},
   "outputs": [],
   "source": [
    "ALPHA_SET = [0.1, 0.3, 0.5, 0.7, 0.9]  # trade-off parameters"
   ]
  },
  {
   "cell_type": "code",
   "execution_count": 6,
   "metadata": {},
   "outputs": [],
   "source": [
    "BIN_CLUSTER = 5  # discritization parameter"
   ]
  },
  {
   "cell_type": "code",
   "execution_count": 7,
   "metadata": {},
   "outputs": [],
   "source": [
    "RANKSVM_COST = 10  # RankSVM regularisation constant\n",
    "N_JOBS = 2         # number of parallel jobs\n",
    "USE_GUROBI = False # whether to use GUROBI as ILP solver"
   ]
  },
  {
   "cell_type": "markdown",
   "metadata": {},
   "source": [
    "Method switches."
   ]
  },
  {
   "cell_type": "code",
   "execution_count": 8,
   "metadata": {},
   "outputs": [],
   "source": [
    "run_rank = True\n",
    "run_tran = True\n",
    "run_comb = True\n",
    "run_rand = True"
   ]
  },
  {
   "cell_type": "markdown",
   "metadata": {},
   "source": [
    "Generate results filenames."
   ]
  },
  {
   "cell_type": "code",
   "execution_count": 9,
   "metadata": {},
   "outputs": [],
   "source": [
    "def gen_fname(dat_ix):\n",
    "    assert(0 <= dat_ix < len(dat_suffix))\n",
    "    \n",
    "    suffix = dat_suffix[dat_ix] + '.pkl'\n",
    "    \n",
    "    frank = os.path.join(data_dir, 'rank-' + suffix)\n",
    "    ftran = os.path.join(data_dir, 'tran-' + suffix)\n",
    "    fcomb = os.path.join(data_dir, 'comb-' + suffix)\n",
    "    frand = os.path.join(data_dir, 'rand-' + suffix)\n",
    "    return frank, ftran, fcomb, frand"
   ]
  },
  {
   "cell_type": "code",
   "execution_count": 10,
   "metadata": {},
   "outputs": [
    {
     "name": "stdout",
     "output_type": "stream",
     "text": [
      "data\\rank-Osak.pkl\n",
      "data\\tran-Osak.pkl\n",
      "data\\comb-Osak.pkl\n",
      "data\\rand-Osak.pkl\n"
     ]
    }
   ],
   "source": [
    "frecdict_rank, frecdict_tran, frecdict_comb, frecdict_rand = gen_fname(dat_ix)\n",
    "print(frecdict_rank)\n",
    "print(frecdict_tran)\n",
    "print(frecdict_comb)\n",
    "print(frecdict_rand)"
   ]
  },
  {
   "cell_type": "markdown",
   "metadata": {},
   "source": [
    "## 1.1 Load Data"
   ]
  },
  {
   "cell_type": "code",
   "execution_count": 11,
   "metadata": {},
   "outputs": [],
   "source": [
    "fpoi = os.path.join(data_dir, 'poi-' + dat_suffix[dat_ix] + '.csv')"
   ]
  },
  {
   "cell_type": "code",
   "execution_count": 12,
   "metadata": {},
   "outputs": [
    {
     "data": {
      "text/html": [
       "<div>\n",
       "<style scoped>\n",
       "    .dataframe tbody tr th:only-of-type {\n",
       "        vertical-align: middle;\n",
       "    }\n",
       "\n",
       "    .dataframe tbody tr th {\n",
       "        vertical-align: top;\n",
       "    }\n",
       "\n",
       "    .dataframe thead th {\n",
       "        text-align: right;\n",
       "    }\n",
       "</style>\n",
       "<table border=\"1\" class=\"dataframe\">\n",
       "  <thead>\n",
       "    <tr style=\"text-align: right;\">\n",
       "      <th></th>\n",
       "      <th>poiCat</th>\n",
       "      <th>poiLon</th>\n",
       "      <th>poiLat</th>\n",
       "    </tr>\n",
       "    <tr>\n",
       "      <th>poiID</th>\n",
       "      <th></th>\n",
       "      <th></th>\n",
       "      <th></th>\n",
       "    </tr>\n",
       "  </thead>\n",
       "  <tbody>\n",
       "    <tr>\n",
       "      <th>1</th>\n",
       "      <td>Amusement</td>\n",
       "      <td>135.428938</td>\n",
       "      <td>34.654792</td>\n",
       "    </tr>\n",
       "    <tr>\n",
       "      <th>2</th>\n",
       "      <td>Amusement</td>\n",
       "      <td>135.430627</td>\n",
       "      <td>34.656145</td>\n",
       "    </tr>\n",
       "    <tr>\n",
       "      <th>3</th>\n",
       "      <td>Amusement</td>\n",
       "      <td>135.508558</td>\n",
       "      <td>34.652423</td>\n",
       "    </tr>\n",
       "    <tr>\n",
       "      <th>4</th>\n",
       "      <td>Amusement</td>\n",
       "      <td>135.433627</td>\n",
       "      <td>34.664758</td>\n",
       "    </tr>\n",
       "    <tr>\n",
       "      <th>5</th>\n",
       "      <td>Amusement</td>\n",
       "      <td>135.499894</td>\n",
       "      <td>34.703680</td>\n",
       "    </tr>\n",
       "  </tbody>\n",
       "</table>\n",
       "</div>"
      ],
      "text/plain": [
       "          poiCat      poiLon     poiLat\n",
       "poiID                                  \n",
       "1      Amusement  135.428938  34.654792\n",
       "2      Amusement  135.430627  34.656145\n",
       "3      Amusement  135.508558  34.652423\n",
       "4      Amusement  135.433627  34.664758\n",
       "5      Amusement  135.499894  34.703680"
      ]
     },
     "execution_count": 12,
     "metadata": {},
     "output_type": "execute_result"
    }
   ],
   "source": [
    "poi_all = pd.read_csv(fpoi)\n",
    "poi_all.set_index('poiID', inplace=True)\n",
    "poi_all.head()"
   ]
  },
  {
   "cell_type": "code",
   "execution_count": 13,
   "metadata": {},
   "outputs": [],
   "source": [
    "ftraj = os.path.join(data_dir, 'traj-' + dat_suffix[dat_ix] + '.csv')"
   ]
  },
  {
   "cell_type": "code",
   "execution_count": 14,
   "metadata": {},
   "outputs": [
    {
     "data": {
      "text/html": [
       "<div>\n",
       "<style scoped>\n",
       "    .dataframe tbody tr th:only-of-type {\n",
       "        vertical-align: middle;\n",
       "    }\n",
       "\n",
       "    .dataframe tbody tr th {\n",
       "        vertical-align: top;\n",
       "    }\n",
       "\n",
       "    .dataframe thead th {\n",
       "        text-align: right;\n",
       "    }\n",
       "</style>\n",
       "<table border=\"1\" class=\"dataframe\">\n",
       "  <thead>\n",
       "    <tr style=\"text-align: right;\">\n",
       "      <th></th>\n",
       "      <th>userID</th>\n",
       "      <th>trajID</th>\n",
       "      <th>poiID</th>\n",
       "      <th>startTime</th>\n",
       "      <th>endTime</th>\n",
       "      <th>#photo</th>\n",
       "      <th>trajLen</th>\n",
       "      <th>poiDuration</th>\n",
       "    </tr>\n",
       "  </thead>\n",
       "  <tbody>\n",
       "    <tr>\n",
       "      <th>0</th>\n",
       "      <td>10297518@N00</td>\n",
       "      <td>1</td>\n",
       "      <td>20</td>\n",
       "      <td>1277719324</td>\n",
       "      <td>1277720832</td>\n",
       "      <td>6</td>\n",
       "      <td>1</td>\n",
       "      <td>1508</td>\n",
       "    </tr>\n",
       "    <tr>\n",
       "      <th>1</th>\n",
       "      <td>10307040@N08</td>\n",
       "      <td>2</td>\n",
       "      <td>6</td>\n",
       "      <td>1382608644</td>\n",
       "      <td>1382608644</td>\n",
       "      <td>1</td>\n",
       "      <td>4</td>\n",
       "      <td>0</td>\n",
       "    </tr>\n",
       "    <tr>\n",
       "      <th>2</th>\n",
       "      <td>10307040@N08</td>\n",
       "      <td>2</td>\n",
       "      <td>8</td>\n",
       "      <td>1382607812</td>\n",
       "      <td>1382607812</td>\n",
       "      <td>1</td>\n",
       "      <td>4</td>\n",
       "      <td>0</td>\n",
       "    </tr>\n",
       "    <tr>\n",
       "      <th>3</th>\n",
       "      <td>10307040@N08</td>\n",
       "      <td>2</td>\n",
       "      <td>21</td>\n",
       "      <td>1382607761</td>\n",
       "      <td>1382607774</td>\n",
       "      <td>2</td>\n",
       "      <td>4</td>\n",
       "      <td>13</td>\n",
       "    </tr>\n",
       "    <tr>\n",
       "      <th>4</th>\n",
       "      <td>10307040@N08</td>\n",
       "      <td>2</td>\n",
       "      <td>22</td>\n",
       "      <td>1382607879</td>\n",
       "      <td>1382608628</td>\n",
       "      <td>9</td>\n",
       "      <td>4</td>\n",
       "      <td>749</td>\n",
       "    </tr>\n",
       "  </tbody>\n",
       "</table>\n",
       "</div>"
      ],
      "text/plain": [
       "         userID  trajID  poiID   startTime     endTime  #photo  trajLen  \\\n",
       "0  10297518@N00       1     20  1277719324  1277720832       6        1   \n",
       "1  10307040@N08       2      6  1382608644  1382608644       1        4   \n",
       "2  10307040@N08       2      8  1382607812  1382607812       1        4   \n",
       "3  10307040@N08       2     21  1382607761  1382607774       2        4   \n",
       "4  10307040@N08       2     22  1382607879  1382608628       9        4   \n",
       "\n",
       "   poiDuration  \n",
       "0         1508  \n",
       "1            0  \n",
       "2            0  \n",
       "3           13  \n",
       "4          749  "
      ]
     },
     "execution_count": 14,
     "metadata": {},
     "output_type": "execute_result"
    }
   ],
   "source": [
    "traj_all = pd.read_csv(ftraj)\n",
    "traj_all.head()"
   ]
  },
  {
   "cell_type": "code",
   "execution_count": 15,
   "metadata": {},
   "outputs": [
    {
     "data": {
      "text/html": [
       "<div>\n",
       "<style scoped>\n",
       "    .dataframe tbody tr th:only-of-type {\n",
       "        vertical-align: middle;\n",
       "    }\n",
       "\n",
       "    .dataframe tbody tr th {\n",
       "        vertical-align: top;\n",
       "    }\n",
       "\n",
       "    .dataframe thead th {\n",
       "        text-align: right;\n",
       "    }\n",
       "</style>\n",
       "<table border=\"1\" class=\"dataframe\">\n",
       "  <thead>\n",
       "    <tr style=\"text-align: right;\">\n",
       "      <th></th>\n",
       "      <th>#user</th>\n",
       "      <th>#poi</th>\n",
       "      <th>#traj</th>\n",
       "      <th>#traj/user</th>\n",
       "    </tr>\n",
       "  </thead>\n",
       "  <tbody>\n",
       "    <tr>\n",
       "      <th>Osak</th>\n",
       "      <td>450</td>\n",
       "      <td>27</td>\n",
       "      <td>1115</td>\n",
       "      <td>2.477778</td>\n",
       "    </tr>\n",
       "  </tbody>\n",
       "</table>\n",
       "</div>"
      ],
      "text/plain": [
       "      #user  #poi  #traj  #traj/user\n",
       "Osak    450    27   1115    2.477778"
      ]
     },
     "execution_count": 15,
     "metadata": {},
     "output_type": "execute_result"
    }
   ],
   "source": [
    "num_user = traj_all['userID'].unique().shape[0]\n",
    "num_poi = traj_all['poiID'].unique().shape[0]\n",
    "num_traj = traj_all['trajID'].unique().shape[0]\n",
    "pd.DataFrame({'#user': num_user, '#poi': num_poi, '#traj': num_traj, '#traj/user': num_traj/num_user}, \\\n",
    "             index=[str(dat_suffix[dat_ix])])"
   ]
  },
  {
   "cell_type": "markdown",
   "metadata": {},
   "source": [
    "Distribution of the number of POIs in trajectories."
   ]
  },
  {
   "cell_type": "code",
   "execution_count": 16,
   "metadata": {},
   "outputs": [
    {
     "data": {
      "text/plain": [
       "Text(0, 0.5, '#Trajectories')"
      ]
     },
     "execution_count": 16,
     "metadata": {},
     "output_type": "execute_result"
    },
    {
     "data": {
      "image/png": "[encoded data removed]",
      "text/plain": [
       "<Figure size 432x288 with 1 Axes>"
      ]
     },
     "metadata": {
      "needs_background": "light"
     },
     "output_type": "display_data"
    }
   ],
   "source": [
    "ax = traj_all['trajLen'].hist(bins=20)\n",
    "ax.set_yscale('log')\n",
    "ax.set_xlabel('#POIs in trajectory'); ax.set_ylabel('#Trajectories')"
   ]
  },
  {
   "cell_type": "markdown",
   "metadata": {},
   "source": [
    "Distribution of POI visit duration."
   ]
  },
  {
   "cell_type": "code",
   "execution_count": 17,
   "metadata": {},
   "outputs": [
    {
     "data": {
      "text/plain": [
       "Text(0, 0.5, '#POI visits')"
      ]
     },
     "execution_count": 17,
     "metadata": {},
     "output_type": "execute_result"
    },
    {
     "data": {
      "image/png": "[encoded data removed]",
      "text/plain": [
       "<Figure size 432x288 with 1 Axes>"
      ]
     },
     "metadata": {
      "needs_background": "light"
     },
     "output_type": "display_data"
    }
   ],
   "source": [
    "ax = traj_all['poiDuration'].hist(bins=20)\n",
    "ax.set_xscale('log')\n",
    "ax.set_yscale('log')\n",
    "ax.set_xlabel('POI visit duration (sec)'); ax.set_ylabel('#POI visits')"
   ]
  },
  {
   "cell_type": "markdown",
   "metadata": {},
   "source": [
    "## 1.2 Utility Functions"
   ]
  },
  {
   "cell_type": "markdown",
   "metadata": {},
   "source": [
    "Print computing progress."
   ]
  },
  {
   "cell_type": "code",
   "execution_count": 18,
   "metadata": {},
   "outputs": [],
   "source": [
    "def print_progress(cnt, total):\n",
    "    \"\"\"Display a progress bar\"\"\"\n",
    "    assert(cnt > 0 and total > 0 and cnt <= total)\n",
    "    length = 80\n",
    "    ratio = cnt / total\n",
    "    n = int(length * ratio)\n",
    "    sys.stdout.write('\\r[%-80s] %d%%' % ('-'*n, int(ratio*100)))\n",
    "    sys.stdout.flush()"
   ]
  },
  {
   "cell_type": "markdown",
   "metadata": {},
   "source": [
    "Extract trajectory, i.e., a list of POIs."
   ]
  },
  {
   "cell_type": "code",
   "execution_count": 19,
   "metadata": {},
   "outputs": [],
   "source": [
    "def extract_traj(tid, traj_all):\n",
    "    traj = traj_all[traj_all['trajID'] == tid].copy()\n",
    "    traj.sort_values(by=['startTime'], ascending=True, inplace=True)\n",
    "    return traj['poiID'].tolist()"
   ]
  },
  {
   "cell_type": "markdown",
   "metadata": {},
   "source": [
    "Compute POI properties, e.g., popularity, total number of visit, average visit duration."
   ]
  },
  {
   "cell_type": "code",
   "execution_count": 20,
   "metadata": {},
   "outputs": [],
   "source": [
    "def calc_poi_info(trajid_list, traj_all, poi_all):\n",
    "    assert(len(trajid_list) > 0)\n",
    "    poi_info = traj_all[traj_all['trajID'] == trajid_list[0]][['poiID', 'poiDuration']].copy() \n",
    "    for i in range(1, len(trajid_list)):\n",
    "        traj = traj_all[traj_all['trajID'] == trajid_list[i]][['poiID', 'poiDuration']]\n",
    "        poi_info = poi_info.append(traj, ignore_index=True)\n",
    "    \n",
    "    poi_info = poi_info.groupby('poiID').agg([np.mean, np.size])\n",
    "    poi_info.columns = poi_info.columns.droplevel()\n",
    "    poi_info.reset_index(inplace=True)\n",
    "    poi_info.rename(columns={'mean':'avgDuration', 'size':'nVisit'}, inplace=True)\n",
    "    poi_info.set_index('poiID', inplace=True) \n",
    "    poi_info['poiCat'] = poi_all.loc[poi_info.index, 'poiCat']\n",
    "    poi_info['poiLon'] = poi_all.loc[poi_info.index, 'poiLon']\n",
    "    poi_info['poiLat'] = poi_all.loc[poi_info.index, 'poiLat']\n",
    "    \n",
    "    # POI popularity: the number of distinct users that visited the POI\n",
    "    pop_df = traj_all[traj_all['trajID'].isin(trajid_list)][['poiID', 'userID']].copy()\n",
    "    pop_df = pop_df.groupby('poiID').agg(pd.Series.nunique)\n",
    "    pop_df.rename(columns={'userID':'nunique'}, inplace=True)\n",
    "    poi_info['popularity'] = pop_df.loc[poi_info.index, 'nunique']\n",
    "    \n",
    "    return poi_info.copy()"
   ]
  },
  {
   "cell_type": "markdown",
   "metadata": {},
   "source": [
    "Compute the F1 score for recommended trajectory."
   ]
  },
  {
   "cell_type": "code",
   "execution_count": 21,
   "metadata": {},
   "outputs": [],
   "source": [
    "def calc_F1(traj_act, traj_rec, noloop=False):\n",
    "    '''Compute recall, precision and F1 for recommended trajectories'''\n",
    "    assert(isinstance(noloop, bool))\n",
    "    assert(len(traj_act) > 0)\n",
    "    assert(len(traj_rec) > 0)\n",
    "    \n",
    "    if noloop == True:\n",
    "        intersize = len(set(traj_act) & set(traj_rec))\n",
    "    else:\n",
    "        match_tags = np.zeros(len(traj_act), dtype=np.bool)\n",
    "        for poi in traj_rec:\n",
    "            for j in range(len(traj_act)):\n",
    "                if match_tags[j] == False and poi == traj_act[j]:\n",
    "                    match_tags[j] = True\n",
    "                    break\n",
    "        intersize = np.nonzero(match_tags)[0].shape[0]\n",
    "        \n",
    "    recall = intersize / len(traj_act)\n",
    "    precision = intersize / len(traj_rec)\n",
    "    F1 = 2 * precision * recall / (precision + recall)\n",
    "    return F1"
   ]
  },
  {
   "cell_type": "markdown",
   "metadata": {},
   "source": [
    "Compute the pairs-F1 score for recommended trajectory."
   ]
  },
  {
   "cell_type": "code",
   "execution_count": 22,
   "metadata": {},
   "outputs": [],
   "source": [
    "%load_ext Cython"
   ]
  },
  {
   "cell_type": "code",
   "execution_count": 23,
   "metadata": {},
   "outputs": [],
   "source": [
    "%%cython\n",
    "import numpy as np\n",
    "cimport numpy as np\n",
    "\n",
    "cpdef float calc_pairsF1(y, y_hat):\n",
    "    assert(len(y) > 0)\n",
    "    assert(len(y) == len(set(y))) # no loops in y\n",
    "    cdef int n, nr, n0, n0r, nc, poi1, poi2, i, j\n",
    "    n = len(y)\n",
    "    nr = len(y_hat)\n",
    "    n0 = n*(n-1) // 2\n",
    "    n0r = nr*(nr-1) // 2\n",
    "    \n",
    "    # y determines the correct visiting order\n",
    "    order_dict = dict()\n",
    "    for i in range(n):\n",
    "        order_dict[y[i]] = i\n",
    "        \n",
    "    nc = 0\n",
    "    for i in range(nr):\n",
    "        poi1 = y_hat[i]\n",
    "        for j in range(i+1, nr):\n",
    "            poi2 = y_hat[j]\n",
    "            if poi1 in order_dict and poi2 in order_dict and poi1 != poi2:\n",
    "                if order_dict[poi1] < order_dict[poi2]: nc += 1\n",
    "\n",
    "    cdef float precision, recall, F1\n",
    "    precision = (1.0 * nc) / (1.0 * n0r)\n",
    "    recall = (1.0 * nc) / (1.0 * n0)\n",
    "    if nc == 0:\n",
    "        F1 = 0\n",
    "    else:\n",
    "        F1 = 2. * precision * recall / (precision + recall)\n",
    "    return F1"
   ]
  },
  {
   "cell_type": "markdown",
   "metadata": {},
   "source": [
    "Compute distance between two POIs using [Haversine formula](http://en.wikipedia.org/wiki/Great-circle_distance)."
   ]
  },
  {
   "cell_type": "code",
   "execution_count": 24,
   "metadata": {},
   "outputs": [],
   "source": [
    "def calc_dist_vec(longitudes1, latitudes1, longitudes2, latitudes2):\n",
    "    \"\"\"Calculate the distance (unit: km) between two places on earth, vectorised\"\"\"\n",
    "    # convert degrees to radians\n",
    "    lng1 = np.radians(longitudes1)\n",
    "    lat1 = np.radians(latitudes1)\n",
    "    lng2 = np.radians(longitudes2)\n",
    "    lat2 = np.radians(latitudes2)\n",
    "    radius = 6371.0088 # mean earth radius, en.wikipedia.org/wiki/Earth_radius#Mean_radius\n",
    "\n",
    "    # The haversine formula, en.wikipedia.org/wiki/Great-circle_distance\n",
    "    dlng = np.fabs(lng1 - lng2)\n",
    "    dlat = np.fabs(lat1 - lat2)\n",
    "    dist =  2 * radius * np.arcsin( np.sqrt( \n",
    "                (np.sin(0.5*dlat))**2 + np.cos(lat1) * np.cos(lat2) * (np.sin(0.5*dlng))**2 ))\n",
    "    return dist"
   ]
  },
  {
   "cell_type": "markdown",
   "metadata": {},
   "source": [
    "Distance between POIs."
   ]
  },
  {
   "cell_type": "code",
   "execution_count": 25,
   "metadata": {},
   "outputs": [],
   "source": [
    "POI_DISTMAT = pd.DataFrame(data=np.zeros((poi_all.shape[0], poi_all.shape[0]), dtype=np.float), \\\n",
    "                           index=poi_all.index, columns=poi_all.index)"
   ]
  },
  {
   "cell_type": "code",
   "execution_count": 26,
   "metadata": {},
   "outputs": [],
   "source": [
    "for ix in poi_all.index:\n",
    "    POI_DISTMAT.loc[ix] = calc_dist_vec(poi_all.loc[ix, 'poiLon'], \\\n",
    "                                        poi_all.loc[ix, 'poiLat'], \\\n",
    "                                        poi_all['poiLon'], \\\n",
    "                                        poi_all['poiLat'])"
   ]
  },
  {
   "cell_type": "code",
   "execution_count": 27,
   "metadata": {},
   "outputs": [],
   "source": [
    "trajid_set_all = sorted(traj_all['trajID'].unique().tolist())"
   ]
  },
  {
   "cell_type": "code",
   "execution_count": 28,
   "metadata": {},
   "outputs": [],
   "source": [
    "poi_info_all = calc_poi_info(trajid_set_all, traj_all, poi_all)"
   ]
  },
  {
   "cell_type": "markdown",
   "metadata": {},
   "source": [
    "Dictionary maps every trajectory ID to the actual trajectory."
   ]
  },
  {
   "cell_type": "code",
   "execution_count": 29,
   "metadata": {},
   "outputs": [],
   "source": [
    "traj_dict = dict()"
   ]
  },
  {
   "cell_type": "code",
   "execution_count": 30,
   "metadata": {},
   "outputs": [],
   "source": [
    "for trajid in trajid_set_all:\n",
    "    traj = extract_traj(trajid, traj_all)\n",
    "    assert(trajid not in traj_dict)\n",
    "    traj_dict[trajid] = traj"
   ]
  },
  {
   "cell_type": "markdown",
   "metadata": {},
   "source": [
    "Define a *query* (in IR terminology) using tuple (start POI, end POI, #POI) ~~user ID.~~"
   ]
  },
  {
   "cell_type": "code",
   "execution_count": 31,
   "metadata": {},
   "outputs": [],
   "source": [
    "QUERY_ID_DICT = dict()  # (start, end, length) --> qid"
   ]
  },
  {
   "cell_type": "code",
   "execution_count": 32,
   "metadata": {},
   "outputs": [],
   "source": [
    "keys = [(traj_dict[x][0], traj_dict[x][-1], len(traj_dict[x])) \\\n",
    "        for x in sorted(traj_dict.keys()) if len(traj_dict[x]) > 2]\n",
    "cnt = 0\n",
    "for key in keys:\n",
    "    if key not in QUERY_ID_DICT:   # (start, end, length) --> qid\n",
    "        QUERY_ID_DICT[key] = cnt\n",
    "        cnt += 1"
   ]
  },
  {
   "cell_type": "code",
   "execution_count": 33,
   "metadata": {},
   "outputs": [
    {
     "name": "stdout",
     "output_type": "stream",
     "text": [
      "#traj in total: 1115\n",
      "#traj (length > 2): 47\n",
      "#query tuple: 43\n"
     ]
    }
   ],
   "source": [
    "print('#traj in total:', len(trajid_set_all))\n",
    "print('#traj (length > 2):', traj_all[traj_all['trajLen'] > 2]['trajID'].unique().shape[0])\n",
    "print('#query tuple:', len(QUERY_ID_DICT))"
   ]
  },
  {
   "cell_type": "markdown",
   "metadata": {},
   "source": [
    "### Validation Set for Tuning $\\alpha$"
   ]
  },
  {
   "cell_type": "markdown",
   "metadata": {},
   "source": [
    "Split dataset (length $\\ge 3$) into two (roughly) equal parts, use part 1 to tune alpha, then make prediction (leave-one-out CV) on part 2 using the tuned alpha, and vice verse. Compute the mean and std for all predictions.\n",
    "\n",
    "NOTE: All short trajectories (length $\\le 2$) are always included to compute POI features."
   ]
  },
  {
   "cell_type": "markdown",
   "metadata": {},
   "source": [
    "The whole set of trajectory ID (length $\\ge 3$)."
   ]
  },
  {
   "cell_type": "code",
   "execution_count": 34,
   "metadata": {},
   "outputs": [],
   "source": [
    "WHOLE_SET = traj_all[traj_all['trajLen'] > 2]['trajID'].unique()"
   ]
  },
  {
   "cell_type": "markdown",
   "metadata": {},
   "source": [
    "Split the whole set randomly into two (roughly) equal parts."
   ]
  },
  {
   "cell_type": "code",
   "execution_count": 35,
   "metadata": {},
   "outputs": [],
   "source": [
    "WHOLE_SET = np.random.permutation(WHOLE_SET)\n",
    "splitix = int(len(WHOLE_SET)*0.5)\n",
    "PART1 = WHOLE_SET[:splitix]\n",
    "PART2 = WHOLE_SET[splitix:]"
   ]
  },
  {
   "cell_type": "markdown",
   "metadata": {},
   "source": [
    "# 2. POI Ranking"
   ]
  },
  {
   "cell_type": "markdown",
   "metadata": {},
   "source": [
    "## 2.1 POI Features for Ranking"
   ]
  },
  {
   "cell_type": "markdown",
   "metadata": {},
   "source": [
    "POI Features used for ranking, given query (`startPOI`, `endPOI`, `nPOI`):\n",
    "1. `category`: one-hot encoding of POI category, encode `True` as `1` and `False` as `-1`\n",
    "1. `neighbourhood`: one-hot encoding of POI cluster, encode `True` as `1` and `False` as `-1`\n",
    "1. `popularity`: log of POI popularity, i.e., the number of distinct users that visited the POI\n",
    "1. `nVisit`: log of the total number of visit by all users\n",
    "1. `avgDuration`: log of average POI visit duration\n",
    "1. `trajLen`: trajectory length, i.e., the number of POIs `nPOI` in trajectory, copy from query\n",
    "1. `sameCatStart`: 1 if POI category is the same as that of `startPOI`, -1 otherwise\n",
    "1. `sameCatEnd`: 1 if POI category is the same as that of `endPOI`, -1 otherwise\n",
    "1. `distStart`: distance (haversine formula) from `startPOI`\n",
    "1. `distEnd`: distance from `endPOI`\n",
    "1. `diffPopStart`: difference in POI popularity from `startPOI` (NO LOG as it could be negative)\n",
    "1. `diffPopEnd`: difference in POI popularity from `endPOI`\n",
    "1. `diffNVisitStart`: difference in the total number of visit from `startPOI`\n",
    "1. `diffNVisitEnd`: difference in the total number of visit from `endPOI`\n",
    "1. `diffDurationStart`: difference in average POI visit duration from the actual duration spent at `startPOI`\n",
    "1. `diffDurationEnd`: difference in average POI visit duration from the actual duration spent at `endPOI`\n",
    "1. `sameNeighbourhoodStart`: 1 if POI resides in the same cluster as that of `startPOI`, -1 otherwise\n",
    "1. `sameNeighbourhoodEnd`: 1 if POI resides in the same cluster as that of `endPOI`, -1 otherwise"
   ]
  },
  {
   "cell_type": "code",
   "execution_count": 36,
   "metadata": {},
   "outputs": [],
   "source": [
    "DF_COLUMNS = ['poiID', 'label', 'queryID', 'category', 'neighbourhood', 'popularity', 'nVisit', 'avgDuration', \\\n",
    "              'trajLen', 'sameCatStart', 'sameCatEnd', 'distStart', 'distEnd', 'diffPopStart', 'diffPopEnd', \\\n",
    "              'diffNVisitStart', 'diffNVisitEnd', 'diffDurationStart', 'diffDurationEnd', \\\n",
    "              'sameNeighbourhoodStart', 'sameNeighbourhoodEnd']"
   ]
  },
  {
   "cell_type": "markdown",
   "metadata": {},
   "source": [
    "## 2.2 Training DataFrame"
   ]
  },
  {
   "cell_type": "markdown",
   "metadata": {},
   "source": [
    "Training data are generated as follows:\n",
    "1. each input tuple $(\\text{startPOI}, \\text{endPOI}, \\text{#POI})$ form a `query` (in IR terminology).\n",
    "1. the label of a specific POI is the number of presence of that POI in the set of trajectories grouped by a specific `query`, excluding the presence as $\\text{startPOI}$ or $\\text{endPOI}$. (the label of all absence POIs w.r.t. that `query` got a label `0`)"
   ]
  },
  {
   "cell_type": "markdown",
   "metadata": {},
   "source": [
    "The dimension of training data matrix is `#(qid, poi)` by `#feature`."
   ]
  },
  {
   "cell_type": "code",
   "execution_count": 37,
   "metadata": {},
   "outputs": [],
   "source": [
    "def gen_train_subdf(poi_id, query_id_set, poi_info, poi_clusters, cats, clusters, query_id_rdict):\n",
    "    assert(isinstance(cats, list))\n",
    "    assert(isinstance(clusters, list))\n",
    "    \n",
    "    columns = DF_COLUMNS\n",
    "    poi_distmat = POI_DISTMAT\n",
    "    df_ = pd.DataFrame(index=np.arange(len(query_id_set)), columns=columns)\n",
    "    \n",
    "    pop, nvisit = poi_info.loc[poi_id, 'popularity'], poi_info.loc[poi_id, 'nVisit']\n",
    "    cat, cluster = poi_info.loc[poi_id, 'poiCat'], poi_clusters.loc[poi_id, 'clusterID'] \n",
    "    duration = poi_info.loc[poi_id, 'avgDuration']\n",
    "    \n",
    "    for j in range(len(query_id_set)):\n",
    "        qid = query_id_set[j]\n",
    "        assert(qid in query_id_rdict) # qid --> (start, end, length)\n",
    "        (p0, pN, trajLen) = query_id_rdict[qid]\n",
    "        idx = df_.index[j]\n",
    "        df_.loc[idx, 'poiID'] = poi_id\n",
    "        df_.loc[idx, 'queryID'] = qid\n",
    "        df_.at[idx, 'category'] = tuple((cat == np.array(cats)).astype(np.int) * 2 - 1)\n",
    "        df_.at[idx, 'neighbourhood'] = tuple((cluster == np.array(clusters)).astype(np.int) * 2 - 1)\n",
    "        df_.loc[idx, 'popularity'] = LOG_SMALL if pop < 1 else np.log10(pop)\n",
    "        df_.loc[idx, 'nVisit'] = LOG_SMALL if nvisit < 1 else np.log10(nvisit)\n",
    "        df_.loc[idx, 'avgDuration'] = LOG_SMALL if duration < 1 else np.log10(duration)\n",
    "        df_.loc[idx, 'trajLen'] = trajLen\n",
    "        df_.loc[idx, 'sameCatStart'] = 1 if cat == poi_info.loc[p0, 'poiCat'] else -1\n",
    "        df_.loc[idx, 'sameCatEnd']   = 1 if cat == poi_info.loc[pN, 'poiCat'] else -1\n",
    "        df_.loc[idx, 'distStart'] = poi_distmat.loc[poi_id, p0]\n",
    "        df_.loc[idx, 'distEnd']   = poi_distmat.loc[poi_id, pN]\n",
    "        df_.loc[idx, 'diffPopStart'] = pop - poi_info.loc[p0, 'popularity']\n",
    "        df_.loc[idx, 'diffPopEnd']   = pop - poi_info.loc[pN, 'popularity']\n",
    "        df_.loc[idx, 'diffNVisitStart'] = nvisit - poi_info.loc[p0, 'nVisit']\n",
    "        df_.loc[idx, 'diffNVisitEnd']   = nvisit - poi_info.loc[pN, 'nVisit']\n",
    "        df_.loc[idx, 'diffDurationStart'] = duration - poi_info.loc[p0, 'avgDuration']\n",
    "        df_.loc[idx, 'diffDurationEnd']   = duration - poi_info.loc[pN, 'avgDuration']\n",
    "        df_.loc[idx, 'sameNeighbourhoodStart'] = 1 if cluster == poi_clusters.loc[p0, 'clusterID'] else -1\n",
    "        df_.loc[idx, 'sameNeighbourhoodEnd']   = 1 if cluster == poi_clusters.loc[pN, 'clusterID'] else -1\n",
    "        \n",
    "    return df_"
   ]
  },
  {
   "cell_type": "code",
   "execution_count": 38,
   "metadata": {},
   "outputs": [],
   "source": [
    "def gen_train_df(trajid_list, traj_dict, poi_info, poi_clusters, cats, clusters, n_jobs=-1):    \n",
    "    columns = DF_COLUMNS\n",
    "    poi_distmat = POI_DISTMAT\n",
    "    query_id_dict = QUERY_ID_DICT\n",
    "    train_trajs = [traj_dict[x] for x in trajid_list if len(traj_dict[x]) > 2]\n",
    "    \n",
    "    qid_set = sorted(set([query_id_dict[(t[0], t[-1], len(t))] for t in train_trajs]))\n",
    "    poi_set = set()\n",
    "    for tr in train_trajs:\n",
    "        poi_set = poi_set | set(tr)\n",
    "    \n",
    "    query_id_rdict = dict()\n",
    "    for k, v in query_id_dict.items(): \n",
    "        query_id_rdict[v] = k  # qid --> (start, end, length)\n",
    "    \n",
    "    train_df_list = Parallel(n_jobs=n_jobs)\\\n",
    "                            (delayed(gen_train_subdf)(poi, qid_set, poi_info, poi_clusters,cats,clusters,query_id_rdict) \n",
    "                             for poi in poi_set)\n",
    "                        \n",
    "    assert(len(train_df_list) > 0)\n",
    "    df_ = train_df_list[0]\n",
    "    for j in range(1, len(train_df_list)):\n",
    "        df_ = df_.append(train_df_list[j], ignore_index=True)            \n",
    "        \n",
    "    # set label\n",
    "    df_.set_index(['queryID', 'poiID'], inplace=True)\n",
    "    df_['label'] = 0\n",
    "    for t in train_trajs:\n",
    "        qid = query_id_dict[(t[0], t[-1], len(t))]\n",
    "        for poi in t[1:-1]:  # do NOT count if the POI is startPOI/endPOI\n",
    "            df_.loc[(qid, poi), 'label'] += 1\n",
    "\n",
    "    df_.reset_index(inplace=True)\n",
    "    return df_"
   ]
  },
  {
   "cell_type": "markdown",
   "metadata": {},
   "source": [
    "## 2.3 Test DataFrame"
   ]
  },
  {
   "cell_type": "markdown",
   "metadata": {},
   "source": [
    "Test data are generated the same way as training data, except that the labels of testing data (unknown) could be arbitrary values as suggested in [libsvm FAQ](http://www.csie.ntu.edu.tw/~cjlin/libsvm/faq.html#f431).\n",
    "The reported accuracy (by `svm-predict` command) is meaningless as it is calculated based on these labels."
   ]
  },
  {
   "cell_type": "markdown",
   "metadata": {},
   "source": [
    "The dimension of training data matrix is `#poi` by `#feature` with one specific `query`, i.e. tuple $(\\text{startPOI}, \\text{endPOI}, \\text{#POI})$."
   ]
  },
  {
   "cell_type": "code",
   "execution_count": 39,
   "metadata": {},
   "outputs": [],
   "source": [
    "def gen_test_df(startPOI, endPOI, nPOI, poi_info, poi_clusters, cats, clusters):\n",
    "    assert(isinstance(cats, list))\n",
    "    assert(isinstance(clusters, list))\n",
    "    \n",
    "    columns = DF_COLUMNS\n",
    "    poi_distmat = POI_DISTMAT\n",
    "    query_id_dict = QUERY_ID_DICT\n",
    "    key = (p0, pN, trajLen) = (startPOI, endPOI, nPOI)\n",
    "    assert(key in query_id_dict)\n",
    "    assert(p0 in poi_info.index)\n",
    "    assert(pN in poi_info.index)\n",
    "    \n",
    "    df_ = pd.DataFrame(index=np.arange(poi_info.shape[0]), columns=columns)\n",
    "    poi_list = sorted(poi_info.index)\n",
    "    \n",
    "    qid = query_id_dict[key]\n",
    "    df_['queryID'] = qid\n",
    "    df_['label'] = np.random.rand(df_.shape[0]) # label for test data is arbitrary according to libsvm FAQ\n",
    "\n",
    "    for i in range(df_.index.shape[0]):\n",
    "        poi = poi_list[i]\n",
    "        lon, lat = poi_info.loc[poi, 'poiLon'], poi_info.loc[poi, 'poiLat']\n",
    "        pop, nvisit = poi_info.loc[poi, 'popularity'], poi_info.loc[poi, 'nVisit']\n",
    "        cat, cluster = poi_info.loc[poi, 'poiCat'], poi_clusters.loc[poi, 'clusterID']\n",
    "        duration = poi_info.loc[poi, 'avgDuration']\n",
    "        idx = df_.index[i]\n",
    "        df_.loc[idx, 'poiID'] = poi\n",
    "        df_.at [idx, 'category'] = tuple((cat == np.array(cats)).astype(np.int) * 2 - 1)\n",
    "        df_.at [idx, 'neighbourhood'] = tuple((cluster == np.array(clusters)).astype(np.int) * 2 - 1)\n",
    "        df_.loc[idx, 'popularity'] = LOG_SMALL if pop < 1 else np.log10(pop)\n",
    "        df_.loc[idx, 'nVisit'] = LOG_SMALL if nvisit < 1 else np.log10(nvisit)\n",
    "        df_.loc[idx, 'avgDuration'] = LOG_SMALL if duration < 1 else np.log10(duration)\n",
    "        df_.loc[idx, 'trajLen'] = trajLen\n",
    "        df_.loc[idx, 'sameCatStart'] = 1 if cat == poi_all.loc[p0, 'poiCat'] else -1\n",
    "        df_.loc[idx, 'sameCatEnd']   = 1 if cat == poi_all.loc[pN, 'poiCat'] else -1\n",
    "        df_.loc[idx, 'distStart'] = poi_distmat.loc[poi, p0]\n",
    "        df_.loc[idx, 'distEnd']   = poi_distmat.loc[poi, pN]\n",
    "        df_.loc[idx, 'diffPopStart'] = pop - poi_info.loc[p0, 'popularity']\n",
    "        df_.loc[idx, 'diffPopEnd']   = pop - poi_info.loc[pN, 'popularity']\n",
    "        df_.loc[idx, 'diffNVisitStart'] = nvisit - poi_info.loc[p0, 'nVisit']\n",
    "        df_.loc[idx, 'diffNVisitEnd']   = nvisit - poi_info.loc[pN, 'nVisit']\n",
    "        df_.loc[idx, 'diffDurationStart'] = duration - poi_info.loc[p0, 'avgDuration']\n",
    "        df_.loc[idx, 'diffDurationEnd']   = duration - poi_info.loc[pN, 'avgDuration']\n",
    "        df_.loc[idx, 'sameNeighbourhoodStart'] = 1 if cluster == poi_clusters.loc[p0, 'clusterID'] else -1\n",
    "        df_.loc[idx, 'sameNeighbourhoodEnd']   = 1 if cluster == poi_clusters.loc[pN, 'clusterID'] else -1\n",
    "        \n",
    "    return df_"
   ]
  },
  {
   "cell_type": "markdown",
   "metadata": {},
   "source": [
    "Generate a string for a training/test data frame."
   ]
  },
  {
   "cell_type": "code",
   "execution_count": 40,
   "metadata": {},
   "outputs": [],
   "source": [
    "def gen_data_str(df_, df_columns=DF_COLUMNS):\n",
    "    for col in df_columns:\n",
    "        assert(col in df_.columns)\n",
    "        \n",
    "    lines = []\n",
    "    for idx in df_.index:\n",
    "        slist = [str(df_.loc[idx, 'label'])]\n",
    "        slist.append(' qid:')\n",
    "        slist.append(str(int(df_.loc[idx, 'queryID'])))\n",
    "        fid = 1\n",
    "        for j in range(3, len(df_columns)):\n",
    "            values_ = df_.at[idx, df_columns[j]]\n",
    "            values_ = values_ if isinstance(values_, tuple) else [values_]\n",
    "            for v in values_:\n",
    "                slist.append(' ')\n",
    "                slist.append(str(fid)); fid += 1\n",
    "                slist.append(':')\n",
    "                slist.append(str(v))\n",
    "        slist.append('\\n')\n",
    "        lines.append(''.join(slist))\n",
    "    return ''.join(lines)"
   ]
  },
  {
   "cell_type": "markdown",
   "metadata": {},
   "source": [
    "## 2.4 Ranking POIs using rankSVM"
   ]
  },
  {
   "cell_type": "markdown",
   "metadata": {},
   "source": [
    "Here the [rankSVM implementation](https://www.csie.ntu.edu.tw/~cjlin/libsvmtools/#large_scale_ranksvm) could be [liblinear-ranksvm](https://www.csie.ntu.edu.tw/~cjlin/libsvmtools/ranksvm/liblinear-ranksvm-2.1.zip) or [libsvm-ranksvm](https://www.csie.ntu.edu.tw/~cjlin/libsvmtools/ranksvm/libsvm-ranksvm-3.20.zip), please read `README.ranksvm` in the zip file for installation instructions."
   ]
  },
  {
   "cell_type": "markdown",
   "metadata": {},
   "source": [
    "Use [softmax function](https://en.wikipedia.org/wiki/Softmax_function) to convert ranking scores to a probability distribution."
   ]
  },
  {
   "cell_type": "code",
   "execution_count": 41,
   "metadata": {},
   "outputs": [],
   "source": [
    "def softmax(x):\n",
    "    x1 = x.copy()\n",
    "    x1 -= np.max(x1)  # numerically more stable, REF: http://cs231n.github.io/linear-classify/#softmax\n",
    "    expx = np.exp(x1)\n",
    "    return expx / np.sum(expx, axis=0) # column-wise sum"
   ]
  },
  {
   "cell_type": "markdown",
   "metadata": {},
   "source": [
    "Below is a python wrapper of the `svm-train` or `train` and `svm-predict` or `predict` commands of rankSVM with ranking probabilities $P(p_i \\lvert (p_s, p_e, len))$ computed using [softmax function](https://en.wikipedia.org/wiki/Softmax_function)."
   ]
  },
  {
   "cell_type": "code",
   "execution_count": 42,
   "metadata": {},
   "outputs": [],
   "source": [
    "# python wrapper of rankSVM\n",
    "class RankSVM:\n",
    "    def __init__(self, bin_dir, useLinear=True, debug=False):\n",
    "        # deal with environmental variables in path\n",
    "#         dir_ = !echo $bin_dir  \n",
    "#         assert(os.path.exists(dir_[0]))\n",
    "#         self.bin_dir = dir_[0]\n",
    "        self.bin_dir = bin_dir\n",
    "\n",
    "        \n",
    "        self.bin_train = 'svm-train.exe'\n",
    "        self.bin_predict = 'svm-predict.exe'\n",
    "        if useLinear:\n",
    "            self.bin_train = 'train'\n",
    "            self.bin_predict = 'predict'\n",
    "        \n",
    "        assert(isinstance(debug, bool))\n",
    "        self.debug = debug\n",
    "        \n",
    "        # create named tmp files for model and feature scaling parameters\n",
    "        self.fmodel = None\n",
    "        self.fscale = None\n",
    "        with tempfile.NamedTemporaryFile(delete=False) as fd: \n",
    "            self.fmodel = fd.name\n",
    "        with tempfile.NamedTemporaryFile(delete=False) as fd: \n",
    "            self.fscale = fd.name\n",
    "        \n",
    "        if self.debug:\n",
    "            print('model file:', self.fmodel)\n",
    "            print('feature scaling parameter file:', self.fscale)\n",
    "    \n",
    "    \n",
    "    def __del__(self):\n",
    "        # remove tmp files\n",
    "        if self.debug == False:\n",
    "            if self.fmodel is not None and os.path.exists(self.fmodel):\n",
    "                os.unlink(self.fmodel)\n",
    "            if self.fscale is not None and os.path.exists(self.fscale):\n",
    "                os.unlink(self.fscale)\n",
    "\n",
    "    \n",
    "    def train(self, train_df, cost=1):\n",
    "        # cost is parameter C in SVM\n",
    "        # write train data to file\n",
    "        ftrain = None\n",
    "        with tempfile.NamedTemporaryFile(mode='w+t', delete=False) as fd: \n",
    "            ftrain = fd.name\n",
    "            datastr = gen_data_str(train_df)\n",
    "            fd.write(datastr)\n",
    "        \n",
    "        # feature scaling\n",
    "        ftrain_scaled = None\n",
    "        with tempfile.NamedTemporaryFile(mode='w+t', delete=False) as fd: \n",
    "            ftrain_scaled = fd.name\n",
    "        result = !$self.bin_dir\\\\svm-scale.exe -s $self.fscale $ftrain > $ftrain_scaled\n",
    "#         os.system(f\"{self.bin_dir}\\\\svm-scale.exe -s {self.fscale} {ftrain} > {ftrain_scaled}\")\n",
    "\n",
    "        test = !echo $self.bin_dir\n",
    "        \n",
    "        \n",
    "        if self.debug:\n",
    "            print('cost:', cost)\n",
    "            print('train data file:', ftrain)\n",
    "            print('feature scaled train data file:', ftrain_scaled)\n",
    "        \n",
    "        # train rank svm and generate model file, if the model file exists, rewrite it\n",
    "        result = !$self.bin_dir\\\\$self.bin_train -c $cost $ftrain_scaled $self.fmodel\n",
    "        if self.debug:\n",
    "            print('Training finished.')\n",
    "            for i in range(len(result)): print(result[i])\n",
    "\n",
    "        # remove train data file\n",
    "        if self.debug == False:\n",
    "            os.unlink(ftrain)\n",
    "            os.unlink(ftrain_scaled)        \n",
    "\n",
    "    \n",
    "    def predict(self, test_df):\n",
    "        # predict ranking scores for the given feature matrix\n",
    "        if self.fmodel is None or not os.path.exists(self.fmodel):\n",
    "            print('Model should be trained before prediction')\n",
    "            return\n",
    "        \n",
    "        # write test data to file\n",
    "        ftest = None\n",
    "        with tempfile.NamedTemporaryFile(mode='w+t', delete=False) as fd: \n",
    "            ftest = fd.name\n",
    "            datastr = gen_data_str(test_df)\n",
    "            fd.write(datastr)\n",
    "                \n",
    "        # feature scaling\n",
    "        ftest_scaled = None\n",
    "        with tempfile.NamedTemporaryFile(delete=False) as fd: \n",
    "            ftest_scaled = fd.name\n",
    "        result = !$self.bin_dir\\\\svm-scale.exe -r $self.fscale $ftest > $ftest_scaled\n",
    "\n",
    "        \n",
    "        # generate prediction file\n",
    "        fpredict = None\n",
    "        with tempfile.NamedTemporaryFile(delete=False) as fd: \n",
    "            fpredict = fd.name\n",
    "            \n",
    "        if self.debug:\n",
    "            print('test data file:', ftest)\n",
    "            print('feature scaled test data file:', ftest_scaled)\n",
    "            print('predict result file:', fpredict)\n",
    "            \n",
    "        # predict using trained model and write prediction to file\n",
    "        result = !$self.bin_dir\\\\$self.bin_predict $ftest_scaled $self.fmodel $fpredict\n",
    "        \n",
    "        if self.debug:\n",
    "            print('Predict result: %-30s  %s' % (result[0], result[1]))\n",
    "        \n",
    "        # generate prediction DataFrame from prediction file\n",
    "  \n",
    "        poi_rank_df = pd.read_csv(fpredict, header=None)\n",
    "        poi_rank_df.rename(columns={0:'rank'}, inplace=True)\n",
    "        poi_rank_df['poiID'] = test_df['poiID'].astype(np.int)\n",
    "        poi_rank_df.set_index('poiID', inplace=True)\n",
    "        poi_rank_df['probability'] = softmax(poi_rank_df['rank'])\n",
    "        \n",
    "        # remove test file and prediction file\n",
    "        if self.debug == False:\n",
    "            os.unlink(ftest)\n",
    "            os.unlink(ftest_scaled)\n",
    "            os.unlink(fpredict)\n",
    "\n",
    "        return poi_rank_df"
   ]
  },
  {
   "cell_type": "markdown",
   "metadata": {},
   "source": [
    "# 3. Factorised Transition Probabilities between POIs"
   ]
  },
  {
   "cell_type": "markdown",
   "metadata": {},
   "source": [
    "Estimate a transition matrix for each feature of POI, transition probabilities between different POIs are obtrained by the Kronecker product of the individual transition matrix corresponding to each feature (with normalisation and a few constraints)."
   ]
  },
  {
   "cell_type": "markdown",
   "metadata": {},
   "source": [
    "## 3.1 POI Features for Factorisation"
   ]
  },
  {
   "cell_type": "markdown",
   "metadata": {},
   "source": [
    "POI features used to factorise transition matrix of Markov Chain with POI features (vector) as states:\n",
    "- Category of POI\n",
    "- Popularity of POI (discritize with uniform log-scale bins, #bins <=5 )\n",
    "- The number of POI visits (discritize with uniform log-scale bins, #bins <=5 )\n",
    "- The average visit duration of POI (discritise with uniform log-scale bins, #bins <= 5)\n",
    "- The neighborhood relationship between POIs (clustering POI(lat, lon) using k-means, #clusters <= 5)"
   ]
  },
  {
   "cell_type": "markdown",
   "metadata": {},
   "source": [
    "We count the number of transition first, then normalise each row while taking care of zero by adding each cell a number $k=1$."
   ]
  },
  {
   "cell_type": "code",
   "execution_count": 43,
   "metadata": {},
   "outputs": [],
   "source": [
    "def normalise_transmat(transmat_cnt):\n",
    "    transmat = transmat_cnt.copy()\n",
    "    assert(isinstance(transmat, pd.DataFrame))\n",
    "    for row in range(transmat.index.shape[0]):\n",
    "        rowsum = np.sum(transmat.iloc[row] + 1)\n",
    "        assert(rowsum > 0)\n",
    "        transmat.iloc[row] = (transmat.iloc[row] + 1) / rowsum\n",
    "    return transmat"
   ]
  },
  {
   "cell_type": "markdown",
   "metadata": {},
   "source": [
    "POIs in training set."
   ]
  },
  {
   "cell_type": "code",
   "execution_count": 44,
   "metadata": {},
   "outputs": [],
   "source": [
    "poi_train = sorted(poi_info_all.index)"
   ]
  },
  {
   "cell_type": "markdown",
   "metadata": {},
   "source": [
    "## 3.2 Transition Matrix between POI Cateogries"
   ]
  },
  {
   "cell_type": "code",
   "execution_count": 45,
   "metadata": {},
   "outputs": [
    {
     "data": {
      "text/plain": [
       "['Amusement', 'Entertainment', 'Historical', 'Park']"
      ]
     },
     "execution_count": 45,
     "metadata": {},
     "output_type": "execute_result"
    }
   ],
   "source": [
    "poi_cats = poi_all.loc[poi_train, 'poiCat'].unique().tolist()\n",
    "poi_cats.sort()\n",
    "POI_CAT_LIST = poi_cats\n",
    "POI_CAT_LIST"
   ]
  },
  {
   "cell_type": "code",
   "execution_count": 46,
   "metadata": {},
   "outputs": [],
   "source": [
    "def gen_transmat_cat(trajid_list, traj_dict, poi_info, poi_cats=POI_CAT_LIST):\n",
    "    transmat_cat_cnt = pd.DataFrame(data=np.zeros((len(poi_cats), len(poi_cats)), dtype=np.float), \\\n",
    "                                    columns=poi_cats, index=poi_cats)\n",
    "    for tid in trajid_list:\n",
    "        t = traj_dict[tid]\n",
    "        if len(t) > 1:\n",
    "            for pi in range(len(t)-1):\n",
    "                p1 = t[pi]\n",
    "                p2 = t[pi+1]\n",
    "                assert(p1 in poi_info.index and p2 in poi_info.index)\n",
    "                cat1 = poi_info.loc[p1, 'poiCat']\n",
    "                cat2 = poi_info.loc[p2, 'poiCat']\n",
    "                transmat_cat_cnt.loc[cat1, cat2] += 1\n",
    "    return normalise_transmat(transmat_cat_cnt)"
   ]
  },
  {
   "cell_type": "code",
   "execution_count": 47,
   "metadata": {},
   "outputs": [
    {
     "data": {
      "text/html": [
       "<div>\n",
       "<style scoped>\n",
       "    .dataframe tbody tr th:only-of-type {\n",
       "        vertical-align: middle;\n",
       "    }\n",
       "\n",
       "    .dataframe tbody tr th {\n",
       "        vertical-align: top;\n",
       "    }\n",
       "\n",
       "    .dataframe thead th {\n",
       "        text-align: right;\n",
       "    }\n",
       "</style>\n",
       "<table border=\"1\" class=\"dataframe\">\n",
       "  <thead>\n",
       "    <tr style=\"text-align: right;\">\n",
       "      <th></th>\n",
       "      <th>Amusement</th>\n",
       "      <th>Entertainment</th>\n",
       "      <th>Historical</th>\n",
       "      <th>Park</th>\n",
       "    </tr>\n",
       "  </thead>\n",
       "  <tbody>\n",
       "    <tr>\n",
       "      <th>Amusement</th>\n",
       "      <td>0.576923</td>\n",
       "      <td>0.256410</td>\n",
       "      <td>0.012821</td>\n",
       "      <td>0.153846</td>\n",
       "    </tr>\n",
       "    <tr>\n",
       "      <th>Entertainment</th>\n",
       "      <td>0.243478</td>\n",
       "      <td>0.556522</td>\n",
       "      <td>0.052174</td>\n",
       "      <td>0.147826</td>\n",
       "    </tr>\n",
       "    <tr>\n",
       "      <th>Historical</th>\n",
       "      <td>0.166667</td>\n",
       "      <td>0.375000</td>\n",
       "      <td>0.125000</td>\n",
       "      <td>0.333333</td>\n",
       "    </tr>\n",
       "    <tr>\n",
       "      <th>Park</th>\n",
       "      <td>0.410714</td>\n",
       "      <td>0.392857</td>\n",
       "      <td>0.089286</td>\n",
       "      <td>0.107143</td>\n",
       "    </tr>\n",
       "  </tbody>\n",
       "</table>\n",
       "</div>"
      ],
      "text/plain": [
       "               Amusement  Entertainment  Historical      Park\n",
       "Amusement       0.576923       0.256410    0.012821  0.153846\n",
       "Entertainment   0.243478       0.556522    0.052174  0.147826\n",
       "Historical      0.166667       0.375000    0.125000  0.333333\n",
       "Park            0.410714       0.392857    0.089286  0.107143"
      ]
     },
     "execution_count": 47,
     "metadata": {},
     "output_type": "execute_result"
    }
   ],
   "source": [
    "gen_transmat_cat(trajid_set_all, traj_dict, poi_info_all)"
   ]
  },
  {
   "cell_type": "markdown",
   "metadata": {},
   "source": [
    "## 3.3 Transition Matrix between POI Popularity Classes"
   ]
  },
  {
   "cell_type": "code",
   "execution_count": 48,
   "metadata": {},
   "outputs": [],
   "source": [
    "poi_pops = poi_info_all.loc[poi_train, 'popularity']"
   ]
  },
  {
   "cell_type": "markdown",
   "metadata": {},
   "source": [
    "Discretize POI popularity with uniform log-scale bins."
   ]
  },
  {
   "cell_type": "code",
   "execution_count": 49,
   "metadata": {},
   "outputs": [
    {
     "name": "stdout",
     "output_type": "stream",
     "text": [
      "0.0 2.1072099696478683\n"
     ]
    }
   ],
   "source": [
    "expo_pop1 = np.log10(max(1, min(poi_pops)))\n",
    "expo_pop2 = np.log10(max(poi_pops))\n",
    "print(expo_pop1, expo_pop2)"
   ]
  },
  {
   "cell_type": "code",
   "execution_count": 50,
   "metadata": {},
   "outputs": [
    {
     "data": {
      "text/plain": [
       "array([   0.        ,    3.98107171,   15.84893192,   63.09573445,\n",
       "        251.18864315, 1000.        ])"
      ]
     },
     "execution_count": 50,
     "metadata": {},
     "output_type": "execute_result"
    }
   ],
   "source": [
    "nbins_pop = BIN_CLUSTER\n",
    "logbins_pop = np.logspace(np.floor(expo_pop1), np.ceil(expo_pop2), nbins_pop+1)\n",
    "logbins_pop[0] = 0  # deal with underflow\n",
    "if logbins_pop[-1] < poi_info_all['popularity'].max():\n",
    "    logbins_pop[-1] = poi_info_all['popularity'].max() + 1\n",
    "logbins_pop"
   ]
  },
  {
   "cell_type": "code",
   "execution_count": 51,
   "metadata": {},
   "outputs": [
    {
     "data": {
      "image/png": "[encoded data removed]",
      "text/plain": [
       "<Figure size 360x216 with 1 Axes>"
      ]
     },
     "metadata": {
      "needs_background": "light"
     },
     "output_type": "display_data"
    }
   ],
   "source": [
    "ax = pd.Series(poi_pops).hist(figsize=(5, 3), bins=logbins_pop)\n",
    "ax.set_xlim(xmin=0.1)\n",
    "ax.set_xscale('log')"
   ]
  },
  {
   "cell_type": "code",
   "execution_count": 52,
   "metadata": {},
   "outputs": [],
   "source": [
    "def gen_transmat_pop(trajid_list, traj_dict, poi_info, logbins_pop=logbins_pop):\n",
    "    nbins = len(logbins_pop) - 1\n",
    "    transmat_pop_cnt = pd.DataFrame(data=np.zeros((nbins, nbins), dtype=np.float), \\\n",
    "                                    columns=np.arange(1, nbins+1), index=np.arange(1, nbins+1))\n",
    "    for tid in trajid_list:\n",
    "        t = traj_dict[tid]\n",
    "        if len(t) > 1:\n",
    "            for pi in range(len(t)-1):\n",
    "                p1 = t[pi]\n",
    "                p2 = t[pi+1]\n",
    "                assert(p1 in poi_info.index and p2 in poi_info.index)\n",
    "                pop1 = poi_info.loc[p1, 'popularity']\n",
    "                pop2 = poi_info.loc[p2, 'popularity']\n",
    "                pc1, pc2 = np.digitize([pop1, pop2], logbins_pop)\n",
    "                transmat_pop_cnt.loc[pc1, pc2] += 1\n",
    "    return normalise_transmat(transmat_pop_cnt), logbins_pop"
   ]
  },
  {
   "cell_type": "code",
   "execution_count": 53,
   "metadata": {},
   "outputs": [
    {
     "data": {
      "text/html": [
       "<div>\n",
       "<style scoped>\n",
       "    .dataframe tbody tr th:only-of-type {\n",
       "        vertical-align: middle;\n",
       "    }\n",
       "\n",
       "    .dataframe tbody tr th {\n",
       "        vertical-align: top;\n",
       "    }\n",
       "\n",
       "    .dataframe thead th {\n",
       "        text-align: right;\n",
       "    }\n",
       "</style>\n",
       "<table border=\"1\" class=\"dataframe\">\n",
       "  <thead>\n",
       "    <tr style=\"text-align: right;\">\n",
       "      <th></th>\n",
       "      <th>1</th>\n",
       "      <th>2</th>\n",
       "      <th>3</th>\n",
       "      <th>4</th>\n",
       "      <th>5</th>\n",
       "    </tr>\n",
       "  </thead>\n",
       "  <tbody>\n",
       "    <tr>\n",
       "      <th>1</th>\n",
       "      <td>0.142857</td>\n",
       "      <td>0.142857</td>\n",
       "      <td>0.285714</td>\n",
       "      <td>0.285714</td>\n",
       "      <td>0.142857</td>\n",
       "    </tr>\n",
       "    <tr>\n",
       "      <th>2</th>\n",
       "      <td>0.080000</td>\n",
       "      <td>0.040000</td>\n",
       "      <td>0.480000</td>\n",
       "      <td>0.360000</td>\n",
       "      <td>0.040000</td>\n",
       "    </tr>\n",
       "    <tr>\n",
       "      <th>3</th>\n",
       "      <td>0.009901</td>\n",
       "      <td>0.069307</td>\n",
       "      <td>0.326733</td>\n",
       "      <td>0.584158</td>\n",
       "      <td>0.009901</td>\n",
       "    </tr>\n",
       "    <tr>\n",
       "      <th>4</th>\n",
       "      <td>0.020833</td>\n",
       "      <td>0.034722</td>\n",
       "      <td>0.354167</td>\n",
       "      <td>0.583333</td>\n",
       "      <td>0.006944</td>\n",
       "    </tr>\n",
       "    <tr>\n",
       "      <th>5</th>\n",
       "      <td>0.200000</td>\n",
       "      <td>0.200000</td>\n",
       "      <td>0.200000</td>\n",
       "      <td>0.200000</td>\n",
       "      <td>0.200000</td>\n",
       "    </tr>\n",
       "  </tbody>\n",
       "</table>\n",
       "</div>"
      ],
      "text/plain": [
       "          1         2         3         4         5\n",
       "1  0.142857  0.142857  0.285714  0.285714  0.142857\n",
       "2  0.080000  0.040000  0.480000  0.360000  0.040000\n",
       "3  0.009901  0.069307  0.326733  0.584158  0.009901\n",
       "4  0.020833  0.034722  0.354167  0.583333  0.006944\n",
       "5  0.200000  0.200000  0.200000  0.200000  0.200000"
      ]
     },
     "execution_count": 53,
     "metadata": {},
     "output_type": "execute_result"
    }
   ],
   "source": [
    "gen_transmat_pop(trajid_set_all, traj_dict, poi_info_all)[0]"
   ]
  },
  {
   "cell_type": "markdown",
   "metadata": {},
   "source": [
    "## 3.4 Transition Matrix between the Number of POI Visit Classes"
   ]
  },
  {
   "cell_type": "code",
   "execution_count": 54,
   "metadata": {},
   "outputs": [],
   "source": [
    "poi_visits = poi_info_all.loc[poi_train, 'nVisit']"
   ]
  },
  {
   "cell_type": "markdown",
   "metadata": {},
   "source": [
    "Discretize the number of POI visit with uniform log-scale bins."
   ]
  },
  {
   "cell_type": "code",
   "execution_count": 55,
   "metadata": {},
   "outputs": [
    {
     "name": "stdout",
     "output_type": "stream",
     "text": [
      "0.0 2.164352855784437\n"
     ]
    }
   ],
   "source": [
    "expo_visit1 = np.log10(max(1, min(poi_visits)))\n",
    "expo_visit2 = np.log10(max(poi_visits))\n",
    "print(expo_visit1, expo_visit2)"
   ]
  },
  {
   "cell_type": "code",
   "execution_count": 56,
   "metadata": {},
   "outputs": [
    {
     "data": {
      "text/plain": [
       "array([   0.        ,    3.98107171,   15.84893192,   63.09573445,\n",
       "        251.18864315, 1000.        ])"
      ]
     },
     "execution_count": 56,
     "metadata": {},
     "output_type": "execute_result"
    }
   ],
   "source": [
    "nbins_visit = BIN_CLUSTER\n",
    "logbins_visit = np.logspace(np.floor(expo_visit1), np.ceil(expo_visit2), nbins_visit+1)\n",
    "logbins_visit[0] = 0  # deal with underflow\n",
    "if logbins_visit[-1] < poi_info_all['nVisit'].max():\n",
    "    logbins_visit[-1] = poi_info_all['nVisit'].max() + 1\n",
    "logbins_visit"
   ]
  },
  {
   "cell_type": "code",
   "execution_count": 57,
   "metadata": {},
   "outputs": [
    {
     "data": {
      "image/png": "[encoded data removed]",
      "text/plain": [
       "<Figure size 360x216 with 1 Axes>"
      ]
     },
     "metadata": {
      "needs_background": "light"
     },
     "output_type": "display_data"
    }
   ],
   "source": [
    "ax = pd.Series(poi_visits).hist(figsize=(5, 3), bins=logbins_visit)\n",
    "ax.set_xlim(xmin=0.1)\n",
    "ax.set_xscale('log')"
   ]
  },
  {
   "cell_type": "code",
   "execution_count": 58,
   "metadata": {},
   "outputs": [],
   "source": [
    "def gen_transmat_visit(trajid_list, traj_dict, poi_info, logbins_visit=logbins_visit):\n",
    "    nbins = len(logbins_visit) - 1\n",
    "    transmat_visit_cnt = pd.DataFrame(data=np.zeros((nbins, nbins), dtype=np.float), \\\n",
    "                                      columns=np.arange(1, nbins+1), index=np.arange(1, nbins+1))\n",
    "    for tid in trajid_list:\n",
    "        t = traj_dict[tid]\n",
    "        if len(t) > 1:\n",
    "            for pi in range(len(t)-1):\n",
    "                p1 = t[pi]\n",
    "                p2 = t[pi+1]\n",
    "                assert(p1 in poi_info.index and p2 in poi_info.index)\n",
    "                visit1 = poi_info.loc[p1, 'nVisit']\n",
    "                visit2 = poi_info.loc[p2, 'nVisit']\n",
    "                vc1, vc2 = np.digitize([visit1, visit2], logbins_visit)\n",
    "                transmat_visit_cnt.loc[vc1, vc2] += 1\n",
    "    return normalise_transmat(transmat_visit_cnt), logbins_visit"
   ]
  },
  {
   "cell_type": "code",
   "execution_count": 59,
   "metadata": {},
   "outputs": [
    {
     "data": {
      "text/html": [
       "<div>\n",
       "<style scoped>\n",
       "    .dataframe tbody tr th:only-of-type {\n",
       "        vertical-align: middle;\n",
       "    }\n",
       "\n",
       "    .dataframe tbody tr th {\n",
       "        vertical-align: top;\n",
       "    }\n",
       "\n",
       "    .dataframe thead th {\n",
       "        text-align: right;\n",
       "    }\n",
       "</style>\n",
       "<table border=\"1\" class=\"dataframe\">\n",
       "  <thead>\n",
       "    <tr style=\"text-align: right;\">\n",
       "      <th></th>\n",
       "      <th>1</th>\n",
       "      <th>2</th>\n",
       "      <th>3</th>\n",
       "      <th>4</th>\n",
       "      <th>5</th>\n",
       "    </tr>\n",
       "  </thead>\n",
       "  <tbody>\n",
       "    <tr>\n",
       "      <th>1</th>\n",
       "      <td>0.142857</td>\n",
       "      <td>0.142857</td>\n",
       "      <td>0.142857</td>\n",
       "      <td>0.428571</td>\n",
       "      <td>0.142857</td>\n",
       "    </tr>\n",
       "    <tr>\n",
       "      <th>2</th>\n",
       "      <td>0.111111</td>\n",
       "      <td>0.111111</td>\n",
       "      <td>0.333333</td>\n",
       "      <td>0.333333</td>\n",
       "      <td>0.111111</td>\n",
       "    </tr>\n",
       "    <tr>\n",
       "      <th>3</th>\n",
       "      <td>0.021739</td>\n",
       "      <td>0.021739</td>\n",
       "      <td>0.250000</td>\n",
       "      <td>0.695652</td>\n",
       "      <td>0.010870</td>\n",
       "    </tr>\n",
       "    <tr>\n",
       "      <th>4</th>\n",
       "      <td>0.017751</td>\n",
       "      <td>0.017751</td>\n",
       "      <td>0.325444</td>\n",
       "      <td>0.633136</td>\n",
       "      <td>0.005917</td>\n",
       "    </tr>\n",
       "    <tr>\n",
       "      <th>5</th>\n",
       "      <td>0.200000</td>\n",
       "      <td>0.200000</td>\n",
       "      <td>0.200000</td>\n",
       "      <td>0.200000</td>\n",
       "      <td>0.200000</td>\n",
       "    </tr>\n",
       "  </tbody>\n",
       "</table>\n",
       "</div>"
      ],
      "text/plain": [
       "          1         2         3         4         5\n",
       "1  0.142857  0.142857  0.142857  0.428571  0.142857\n",
       "2  0.111111  0.111111  0.333333  0.333333  0.111111\n",
       "3  0.021739  0.021739  0.250000  0.695652  0.010870\n",
       "4  0.017751  0.017751  0.325444  0.633136  0.005917\n",
       "5  0.200000  0.200000  0.200000  0.200000  0.200000"
      ]
     },
     "execution_count": 59,
     "metadata": {},
     "output_type": "execute_result"
    }
   ],
   "source": [
    "gen_transmat_visit(trajid_set_all, traj_dict, poi_info_all)[0]"
   ]
  },
  {
   "cell_type": "markdown",
   "metadata": {},
   "source": [
    "## 3.5 Transition Matrix between POI Average Visit Duration Classes"
   ]
  },
  {
   "cell_type": "code",
   "execution_count": 60,
   "metadata": {},
   "outputs": [],
   "source": [
    "poi_durations = poi_info_all.loc[poi_train, 'avgDuration']"
   ]
  },
  {
   "cell_type": "code",
   "execution_count": 61,
   "metadata": {},
   "outputs": [
    {
     "name": "stdout",
     "output_type": "stream",
     "text": [
      "0.0 3.915221701008328\n"
     ]
    }
   ],
   "source": [
    "expo_duration1 = np.log10(max(1, min(poi_durations)))\n",
    "expo_duration2 = np.log10(max(poi_durations))\n",
    "print(expo_duration1, expo_duration2)"
   ]
  },
  {
   "cell_type": "code",
   "execution_count": 62,
   "metadata": {},
   "outputs": [
    {
     "data": {
      "text/plain": [
       "array([0.00000000e+00, 6.30957344e+00, 3.98107171e+01, 2.51188643e+02,\n",
       "       1.58489319e+03, 8.22662500e+05])"
      ]
     },
     "execution_count": 62,
     "metadata": {},
     "output_type": "execute_result"
    }
   ],
   "source": [
    "nbins_duration = BIN_CLUSTER\n",
    "logbins_duration = np.logspace(np.floor(expo_duration1), np.ceil(expo_duration2), nbins_duration+1)\n",
    "logbins_duration[0] = 0  # deal with underflow\n",
    "logbins_duration[-1] = np.power(10, expo_duration2+2)\n",
    "logbins_duration"
   ]
  },
  {
   "cell_type": "code",
   "execution_count": 63,
   "metadata": {},
   "outputs": [
    {
     "data": {
      "image/png": "[encoded data removed]",
      "text/plain": [
       "<Figure size 360x216 with 1 Axes>"
      ]
     },
     "metadata": {
      "needs_background": "light"
     },
     "output_type": "display_data"
    }
   ],
   "source": [
    "ax = pd.Series(poi_durations).hist(figsize=(5, 3), bins=logbins_duration)\n",
    "ax.set_xlim(xmin=0.1)\n",
    "ax.set_xscale('log')"
   ]
  },
  {
   "cell_type": "code",
   "execution_count": 64,
   "metadata": {},
   "outputs": [],
   "source": [
    "def gen_transmat_duration(trajid_list, traj_dict, poi_info, logbins_duration=logbins_duration):\n",
    "    nbins = len(logbins_duration) - 1\n",
    "    transmat_duration_cnt = pd.DataFrame(data=np.zeros((nbins, nbins), dtype=np.float), \\\n",
    "                                         columns=np.arange(1, nbins+1), index=np.arange(1, nbins+1))\n",
    "    for tid in trajid_list:\n",
    "        t = traj_dict[tid]\n",
    "        if len(t) > 1:\n",
    "            for pi in range(len(t)-1):\n",
    "                p1 = t[pi]\n",
    "                p2 = t[pi+1]\n",
    "                assert(p1 in poi_info.index and p2 in poi_info.index)\n",
    "                d1 = poi_info.loc[p1, 'avgDuration']\n",
    "                d2 = poi_info.loc[p2, 'avgDuration']\n",
    "                dc1, dc2 = np.digitize([d1, d2], logbins_duration)\n",
    "                transmat_duration_cnt.loc[dc1, dc2] += 1\n",
    "    return normalise_transmat(transmat_duration_cnt), logbins_duration"
   ]
  },
  {
   "cell_type": "code",
   "execution_count": 65,
   "metadata": {},
   "outputs": [
    {
     "data": {
      "text/html": [
       "<div>\n",
       "<style scoped>\n",
       "    .dataframe tbody tr th:only-of-type {\n",
       "        vertical-align: middle;\n",
       "    }\n",
       "\n",
       "    .dataframe tbody tr th {\n",
       "        vertical-align: top;\n",
       "    }\n",
       "\n",
       "    .dataframe thead th {\n",
       "        text-align: right;\n",
       "    }\n",
       "</style>\n",
       "<table border=\"1\" class=\"dataframe\">\n",
       "  <thead>\n",
       "    <tr style=\"text-align: right;\">\n",
       "      <th></th>\n",
       "      <th>1</th>\n",
       "      <th>2</th>\n",
       "      <th>3</th>\n",
       "      <th>4</th>\n",
       "      <th>5</th>\n",
       "    </tr>\n",
       "  </thead>\n",
       "  <tbody>\n",
       "    <tr>\n",
       "      <th>1</th>\n",
       "      <td>0.166667</td>\n",
       "      <td>0.166667</td>\n",
       "      <td>0.166667</td>\n",
       "      <td>0.166667</td>\n",
       "      <td>0.333333</td>\n",
       "    </tr>\n",
       "    <tr>\n",
       "      <th>2</th>\n",
       "      <td>0.200000</td>\n",
       "      <td>0.200000</td>\n",
       "      <td>0.200000</td>\n",
       "      <td>0.200000</td>\n",
       "      <td>0.200000</td>\n",
       "    </tr>\n",
       "    <tr>\n",
       "      <th>3</th>\n",
       "      <td>0.166667</td>\n",
       "      <td>0.166667</td>\n",
       "      <td>0.166667</td>\n",
       "      <td>0.166667</td>\n",
       "      <td>0.333333</td>\n",
       "    </tr>\n",
       "    <tr>\n",
       "      <th>4</th>\n",
       "      <td>0.014085</td>\n",
       "      <td>0.014085</td>\n",
       "      <td>0.014085</td>\n",
       "      <td>0.239437</td>\n",
       "      <td>0.718310</td>\n",
       "    </tr>\n",
       "    <tr>\n",
       "      <th>5</th>\n",
       "      <td>0.010309</td>\n",
       "      <td>0.005155</td>\n",
       "      <td>0.020619</td>\n",
       "      <td>0.231959</td>\n",
       "      <td>0.731959</td>\n",
       "    </tr>\n",
       "  </tbody>\n",
       "</table>\n",
       "</div>"
      ],
      "text/plain": [
       "          1         2         3         4         5\n",
       "1  0.166667  0.166667  0.166667  0.166667  0.333333\n",
       "2  0.200000  0.200000  0.200000  0.200000  0.200000\n",
       "3  0.166667  0.166667  0.166667  0.166667  0.333333\n",
       "4  0.014085  0.014085  0.014085  0.239437  0.718310\n",
       "5  0.010309  0.005155  0.020619  0.231959  0.731959"
      ]
     },
     "execution_count": 65,
     "metadata": {},
     "output_type": "execute_result"
    }
   ],
   "source": [
    "gen_transmat_duration(trajid_set_all, traj_dict, poi_info_all)[0]"
   ]
  },
  {
   "cell_type": "markdown",
   "metadata": {},
   "source": [
    "## 3.6 Transition Matrix between POI Neighborhood Classes"
   ]
  },
  {
   "cell_type": "markdown",
   "metadata": {},
   "source": [
    "KMeans in scikit-learn seems unable to use custom distance metric and no implementation of [Haversine formula](http://en.wikipedia.org/wiki/Great-circle_distance), use Euclidean distance to approximate."
   ]
  },
  {
   "cell_type": "code",
   "execution_count": 66,
   "metadata": {},
   "outputs": [],
   "source": [
    "X = poi_all.loc[poi_train, ['poiLon', 'poiLat']]\n",
    "nclusters = BIN_CLUSTER"
   ]
  },
  {
   "cell_type": "code",
   "execution_count": 67,
   "metadata": {},
   "outputs": [
    {
     "data": {
      "text/plain": [
       "KMeans(algorithm='auto', copy_x=True, init='k-means++', max_iter=300,\n",
       "       n_clusters=5, n_init=10, n_jobs=None, precompute_distances='auto',\n",
       "       random_state=987654321, tol=0.0001, verbose=0)"
      ]
     },
     "execution_count": 67,
     "metadata": {},
     "output_type": "execute_result"
    }
   ],
   "source": [
    "kmeans = KMeans(n_clusters=nclusters, random_state=987654321)\n",
    "kmeans.fit(X)"
   ]
  },
  {
   "cell_type": "code",
   "execution_count": 68,
   "metadata": {},
   "outputs": [],
   "source": [
    "clusters = kmeans.predict(X)\n",
    "POI_CLUSTER_LIST = sorted(np.unique(clusters))\n",
    "POI_CLUSTERS = pd.DataFrame(data=clusters, index=poi_train)\n",
    "POI_CLUSTERS.index.name = 'poiID'\n",
    "POI_CLUSTERS.rename(columns={0:'clusterID'}, inplace=True)\n",
    "POI_CLUSTERS['clusterID'] = POI_CLUSTERS['clusterID'].astype(np.int)"
   ]
  },
  {
   "cell_type": "markdown",
   "metadata": {},
   "source": [
    "Scatter plot of POI coordinates with clustering results."
   ]
  },
  {
   "cell_type": "code",
   "execution_count": 69,
   "metadata": {},
   "outputs": [
    {
     "data": {
      "text/plain": [
       "<matplotlib.collections.PathCollection at 0x145d2eecd08>"
      ]
     },
     "execution_count": 69,
     "metadata": {},
     "output_type": "execute_result"
    },
    {
     "data": {
      "image/png": "[encoded data removed]",
      "text/plain": [
       "<Figure size 1728x432 with 1 Axes>"
      ]
     },
     "metadata": {
      "needs_background": "light"
     },
     "output_type": "display_data"
    }
   ],
   "source": [
    "diff = poi_all.loc[poi_train, ['poiLon', 'poiLat']].max() - poi_all.loc[poi_train, ['poiLon', 'poiLat']].min()\n",
    "ratio = diff['poiLon'] / diff['poiLat']\n",
    "height = 6; width = int(round(ratio)*height)\n",
    "plt.figure(figsize=[width, height])\n",
    "plt.scatter(poi_all.loc[poi_train, 'poiLon'], poi_all.loc[poi_train, 'poiLat'], c=clusters, s=50)"
   ]
  },
  {
   "cell_type": "code",
   "execution_count": 70,
   "metadata": {},
   "outputs": [],
   "source": [
    "def gen_transmat_neighbor(trajid_list, traj_dict, poi_info, poi_clusters=POI_CLUSTERS):\n",
    "    nclusters = len(poi_clusters['clusterID'].unique())\n",
    "    transmat_neighbor_cnt = pd.DataFrame(data=np.zeros((nclusters, nclusters), dtype=np.float), \\\n",
    "                                         columns=np.arange(nclusters), index=np.arange(nclusters))\n",
    "    for tid in trajid_list:\n",
    "        t = traj_dict[tid]\n",
    "        if len(t) > 1:\n",
    "            for pi in range(len(t)-1):\n",
    "                p1 = t[pi]\n",
    "                p2 = t[pi+1]\n",
    "                assert(p1 in poi_info.index and p2 in poi_info.index)\n",
    "                c1 = poi_clusters.loc[p1, 'clusterID']\n",
    "                c2 = poi_clusters.loc[p2, 'clusterID']\n",
    "                transmat_neighbor_cnt.loc[c1, c2] += 1\n",
    "    return normalise_transmat(transmat_neighbor_cnt), poi_clusters"
   ]
  },
  {
   "cell_type": "code",
   "execution_count": 71,
   "metadata": {},
   "outputs": [
    {
     "data": {
      "text/html": [
       "<div>\n",
       "<style scoped>\n",
       "    .dataframe tbody tr th:only-of-type {\n",
       "        vertical-align: middle;\n",
       "    }\n",
       "\n",
       "    .dataframe tbody tr th {\n",
       "        vertical-align: top;\n",
       "    }\n",
       "\n",
       "    .dataframe thead th {\n",
       "        text-align: right;\n",
       "    }\n",
       "</style>\n",
       "<table border=\"1\" class=\"dataframe\">\n",
       "  <thead>\n",
       "    <tr style=\"text-align: right;\">\n",
       "      <th></th>\n",
       "      <th>0</th>\n",
       "      <th>1</th>\n",
       "      <th>2</th>\n",
       "      <th>3</th>\n",
       "      <th>4</th>\n",
       "    </tr>\n",
       "  </thead>\n",
       "  <tbody>\n",
       "    <tr>\n",
       "      <th>0</th>\n",
       "      <td>0.440476</td>\n",
       "      <td>0.011905</td>\n",
       "      <td>0.404762</td>\n",
       "      <td>0.119048</td>\n",
       "      <td>0.023810</td>\n",
       "    </tr>\n",
       "    <tr>\n",
       "      <th>1</th>\n",
       "      <td>0.200000</td>\n",
       "      <td>0.200000</td>\n",
       "      <td>0.200000</td>\n",
       "      <td>0.200000</td>\n",
       "      <td>0.200000</td>\n",
       "    </tr>\n",
       "    <tr>\n",
       "      <th>2</th>\n",
       "      <td>0.290076</td>\n",
       "      <td>0.007634</td>\n",
       "      <td>0.664122</td>\n",
       "      <td>0.015267</td>\n",
       "      <td>0.022901</td>\n",
       "    </tr>\n",
       "    <tr>\n",
       "      <th>3</th>\n",
       "      <td>0.226415</td>\n",
       "      <td>0.018868</td>\n",
       "      <td>0.094340</td>\n",
       "      <td>0.641509</td>\n",
       "      <td>0.018868</td>\n",
       "    </tr>\n",
       "    <tr>\n",
       "      <th>4</th>\n",
       "      <td>0.222222</td>\n",
       "      <td>0.111111</td>\n",
       "      <td>0.333333</td>\n",
       "      <td>0.222222</td>\n",
       "      <td>0.111111</td>\n",
       "    </tr>\n",
       "  </tbody>\n",
       "</table>\n",
       "</div>"
      ],
      "text/plain": [
       "          0         1         2         3         4\n",
       "0  0.440476  0.011905  0.404762  0.119048  0.023810\n",
       "1  0.200000  0.200000  0.200000  0.200000  0.200000\n",
       "2  0.290076  0.007634  0.664122  0.015267  0.022901\n",
       "3  0.226415  0.018868  0.094340  0.641509  0.018868\n",
       "4  0.222222  0.111111  0.333333  0.222222  0.111111"
      ]
     },
     "execution_count": 71,
     "metadata": {},
     "output_type": "execute_result"
    }
   ],
   "source": [
    "gen_transmat_neighbor(trajid_set_all, traj_dict, poi_info_all)[0]"
   ]
  },
  {
   "cell_type": "markdown",
   "metadata": {},
   "source": [
    "## 3.8 Transition Matrix between POIs"
   ]
  },
  {
   "cell_type": "markdown",
   "metadata": {},
   "source": [
    "Approximate transition probabilities (matrix) between different POI features (vector) using the [Kronecker product](https://en.wikipedia.org/wiki/Kronecker_product) of individual transition matrix corresponding to each feature, i.e., POI category, POI popularity (discritized), POI average visit duration (discritized) and POI neighborhoods (clusters)."
   ]
  },
  {
   "cell_type": "markdown",
   "metadata": {},
   "source": [
    "Deal with features without corresponding POIs and feature with more than one corresponding POIs. (*Before Normalisation*)\n",
    "- For features without corresponding POIs, just remove the rows and columns from the matrix obtained by Kronecker product.\n",
    "- For different POIs with the exact same feature, \n",
    "  - Let POIs with the same feature as a POI group,\n",
    "  - The *incoming* **transition value (i.e., unnormalised transition probability)** of this POI group \n",
    "    should be divided uniformly among the group members, \n",
    "    *which corresponds to choose a group member uniformly at random in the incoming case*.\n",
    "  - The *outgoing* transition value should be duplicated (i.e., the same) among all group members, \n",
    "    **as we were already in that group in the outgoing case**.\n",
    "  - For each POI in the group, the allocation transition value of the *self-loop of the POI group* is similar to \n",
    "    that in the *outgoing* case, **as we were already in that group**, so just duplicate and then divide uniformly among \n",
    "    the transitions from this POI to other POIs in the same group, \n",
    "    *which corresponds to choose a outgoing transition uniformly at random from all outgoing transitions\n",
    "    excluding the self-loop of this POI*.\n",
    "- **Concretely**, for a POI group with $n$ POIs, \n",
    "    1. If the *incoming* transition value of POI group is $m_1$,\n",
    "       then the corresponding *incoming* transition value for each group member is $\\frac{m_1}{n}$.\n",
    "    1. If the *outgoing* transition value of POI group is $m_2$,\n",
    "       then the corresponding *outgoing* transition value for each group member is also $m_2$.\n",
    "    1. If the transition value of *self-loop of the POI group* is $m_3$,\n",
    "       then transition value of *self-loop of individual POIs* should be $0$,  \n",
    "       and *other in-group transitions* with value $\\frac{m_3}{n-1}$\n",
    "       as the total number of outgoing transitions to other POIs in the same group is $n-1$ (excluding the self-loop),\n",
    "       i.e. $n-1$ choose $1$.\n",
    "       \n",
    "**NOTE**: execute the above division before or after row normalisation will lead to the same result, *as the division itself does NOT change the normalising constant of each row (i.e., the sum of each row before normalising)*."
   ]
  },
  {
   "cell_type": "code",
   "execution_count": 72,
   "metadata": {},
   "outputs": [],
   "source": [
    "def gen_poi_logtransmat(trajid_list, poi_set, traj_dict, poi_info, debug=False):\n",
    "    transmat_cat                        = gen_transmat_cat(trajid_list, traj_dict, poi_info)\n",
    "    transmat_pop,      logbins_pop      = gen_transmat_pop(trajid_list, traj_dict, poi_info)\n",
    "    transmat_visit,    logbins_visit    = gen_transmat_visit(trajid_list, traj_dict, poi_info)\n",
    "    transmat_duration, logbins_duration = gen_transmat_duration(trajid_list, traj_dict, poi_info)\n",
    "    transmat_neighbor, poi_clusters     = gen_transmat_neighbor(trajid_list, traj_dict, poi_info)\n",
    "\n",
    "    # Kronecker product\n",
    "    transmat_ix = list(itertools.product(transmat_cat.index, transmat_pop.index, transmat_visit.index, \\\n",
    "                                         transmat_duration.index, transmat_neighbor.index))\n",
    "    transmat_value = transmat_cat.values\n",
    "    for transmat in [transmat_pop, transmat_visit, transmat_duration, transmat_neighbor]:\n",
    "        transmat_value = kron(transmat_value, transmat.values)\n",
    "    transmat_feature = pd.DataFrame(data=transmat_value, index=transmat_ix, columns=transmat_ix)\n",
    "    \n",
    "    poi_train = sorted(poi_set)\n",
    "    feature_names = ['poiCat', 'popularity', 'nVisit', 'avgDuration', 'clusterID']\n",
    "    poi_features = pd.DataFrame(data=np.zeros((len(poi_train), len(feature_names))), \\\n",
    "                                columns=feature_names, index=poi_train)\n",
    "    poi_features.index.name = 'poiID'\n",
    "    poi_features['poiCat'] = poi_info.loc[poi_train, 'poiCat']\n",
    "    poi_features['popularity'] = np.digitize(poi_info.loc[poi_train, 'popularity'], logbins_pop)\n",
    "    poi_features['nVisit'] = np.digitize(poi_info.loc[poi_train, 'nVisit'], logbins_visit)\n",
    "    poi_features['avgDuration'] = np.digitize(poi_info.loc[poi_train, 'avgDuration'], logbins_duration)\n",
    "    poi_features['clusterID'] = poi_clusters.loc[poi_train, 'clusterID']\n",
    "    \n",
    "    # shrink the result of Kronecker product and deal with POIs with the same features\n",
    "    poi_logtransmat = pd.DataFrame(data=np.zeros((len(poi_train), len(poi_train)), dtype=np.float), \\\n",
    "                                   columns=poi_train, index=poi_train)\n",
    "    for p1 in poi_logtransmat.index:\n",
    "        rix = tuple(poi_features.loc[p1])\n",
    "        for p2 in poi_logtransmat.columns:\n",
    "            cix = tuple(poi_features.loc[p2])\n",
    "            value_ = transmat_feature.loc[(rix,), (cix,)]\n",
    "            poi_logtransmat.loc[p1, p2] = value_.values[0, 0]\n",
    "    \n",
    "    # group POIs with the same features\n",
    "    features_dup = dict()\n",
    "    for poi in poi_features.index:\n",
    "        key = tuple(poi_features.loc[poi])\n",
    "        if key in features_dup:\n",
    "            features_dup[key].append(poi)\n",
    "        else:\n",
    "            features_dup[key] = [poi]\n",
    "    if debug == True:\n",
    "        for key in sorted(features_dup.keys()):\n",
    "            print(key, '->', features_dup[key])\n",
    "            \n",
    "    # deal with POIs with the same features\n",
    "    for feature in sorted(features_dup.keys()):\n",
    "        n = len(features_dup[feature])\n",
    "        if n > 1:\n",
    "            group = features_dup[feature]\n",
    "            v1 = poi_logtransmat.loc[group[0], group[0]]  # transition value of self-loop of POI group\n",
    "            \n",
    "            # divide incoming transition value (i.e. unnormalised transition probability) uniformly among group members\n",
    "            for poi in group:\n",
    "                poi_logtransmat[poi] /= n\n",
    "                \n",
    "            # outgoing transition value has already been duplicated (value copied above)\n",
    "            \n",
    "            # duplicate & divide transition value of self-loop of POI group uniformly among all outgoing transitions,\n",
    "            # from a POI to all other POIs in the same group (excluding POI self-loop)\n",
    "            v2 = v1 / (n - 1)\n",
    "            for pair in itertools.permutations(group, 2):\n",
    "                poi_logtransmat.loc[pair[0], pair[1]] = v2\n",
    "                            \n",
    "    # normalise each row\n",
    "    for p1 in poi_logtransmat.index:\n",
    "        poi_logtransmat.loc[p1, p1] = 0\n",
    "        rowsum = poi_logtransmat.loc[p1].sum()\n",
    "        assert(rowsum > 0)\n",
    "        logrowsum = np.log10(rowsum)\n",
    "        for p2 in poi_logtransmat.columns:\n",
    "            if p1 == p2:\n",
    "                poi_logtransmat.loc[p1, p2] = LOG_ZERO  # deal with log(0) explicitly\n",
    "            else:\n",
    "                poi_logtransmat.loc[p1, p2] = np.log10(poi_logtransmat.loc[p1, p2]) - logrowsum\n",
    "    \n",
    "    return poi_logtransmat"
   ]
  },
  {
   "cell_type": "code",
   "execution_count": 73,
   "metadata": {},
   "outputs": [
    {
     "name": "stdout",
     "output_type": "stream",
     "text": [
      "('Amusement', 3, 3, 4, 3) -> [2]\n",
      "('Amusement', 3, 3, 5, 2) -> [3]\n",
      "('Amusement', 3, 3, 5, 3) -> [4]\n",
      "('Amusement', 4, 4, 4, 0) -> [5]\n",
      "('Amusement', 4, 4, 5, 0) -> [6]\n",
      "('Amusement', 4, 4, 5, 3) -> [1]\n",
      "('Entertainment', 1, 1, 1, 2) -> [27, 29]\n",
      "('Entertainment', 2, 2, 3, 2) -> [19]\n",
      "('Entertainment', 2, 3, 4, 0) -> [25]\n",
      "('Entertainment', 3, 3, 4, 0) -> [28]\n",
      "('Entertainment', 3, 3, 4, 2) -> [23, 24]\n",
      "('Entertainment', 3, 4, 5, 2) -> [22]\n",
      "('Entertainment', 4, 4, 4, 1) -> [26]\n",
      "('Entertainment', 4, 4, 5, 2) -> [20, 21]\n",
      "('Historical', 1, 1, 3, 2) -> [17]\n",
      "('Historical', 2, 2, 5, 4) -> [16]\n",
      "('Historical', 3, 3, 5, 0) -> [18]\n",
      "('Historical', 3, 3, 5, 2) -> [15]\n",
      "('Park', 1, 1, 3, 4) -> [9]\n",
      "('Park', 2, 2, 4, 4) -> [12]\n",
      "('Park', 2, 3, 5, 0) -> [11]\n",
      "('Park', 2, 3, 5, 2) -> [10]\n",
      "('Park', 3, 3, 5, 0) -> [7]\n",
      "('Park', 4, 4, 5, 0) -> [8]\n"
     ]
    }
   ],
   "source": [
    "transmat_ = gen_poi_logtransmat(trajid_set_all, set(poi_info_all.index), traj_dict, poi_info_all, debug=True)"
   ]
  },
  {
   "cell_type": "markdown",
   "metadata": {},
   "source": [
    "## 3.9 Viterbi Decoding vs ILP"
   ]
  },
  {
   "cell_type": "markdown",
   "metadata": {},
   "source": [
    "Use dynamic programming to find a possibly non-simple path, i.e., walk.   "
   ]
  },
  {
   "cell_type": "markdown",
   "metadata": {},
   "source": [
    "Can include/exclude `startPOI` and `endPOI` when evaluating intermediate POIs in dynamic programming."
   ]
  },
  {
   "cell_type": "code",
   "execution_count": 74,
   "metadata": {},
   "outputs": [],
   "source": [
    "def find_viterbi(V, E, ps, pe, L, withNodeWeight=False, alpha=0.5, withStartEndIntermediate=False):\n",
    "    assert(isinstance(V, pd.DataFrame))\n",
    "    assert(isinstance(E, pd.DataFrame))\n",
    "    assert(ps in V.index)\n",
    "    assert(pe in V.index)\n",
    "    assert(2 < L <= V.index.shape[0])  \n",
    "    if withNodeWeight == True:\n",
    "        assert(0 < alpha < 1)\n",
    "        beta = 1 - alpha\n",
    "    else:\n",
    "        alpha = 0\n",
    "        beta = 1\n",
    "        weightkey = 'weight'\n",
    "        if weightkey not in V.columns:\n",
    "            V['weight'] = 1  # dummy weights, will not be used as alpha=0\n",
    "    if withStartEndIntermediate == True:\n",
    "        excludes = [ps]\n",
    "    else:\n",
    "        excludes = [ps, pe]\n",
    "    \n",
    "    A = pd.DataFrame(data=np.zeros((L-1, V.shape[0]), dtype=np.float), columns=V.index, index=np.arange(2, L+1))\n",
    "    B = pd.DataFrame(data=np.zeros((L-1, V.shape[0]), dtype=np.int),   columns=V.index, index=np.arange(2, L+1))\n",
    "    A += np.inf\n",
    "    for v in V.index:            \n",
    "        if v not in excludes:\n",
    "            A.loc[2, v] = alpha * (V.loc[ps, 'weight'] + V.loc[v, 'weight']) + beta * E.loc[ps, v]  # ps--v\n",
    "            B.loc[2, v] = ps\n",
    "    \n",
    "    for l in range(3, L+1):\n",
    "        for v in V.index:\n",
    "            if withStartEndIntermediate == True: # ps-~-v1---v \n",
    "                values = [A.loc[l-1, v1] + alpha * V.loc[v, 'weight'] + beta * E.loc[v1, v] for v1 in V.index]\n",
    "            else: # ps-~-v1---v \n",
    "                values = [A.loc[l-1, v1] + alpha * V.loc[v, 'weight'] + beta * E.loc[v1, v] \\\n",
    "                          if v1 not in [ps, pe] else -np.inf for v1 in V.index] # exclude ps and pe\n",
    "            \n",
    "            maxix = np.argmax(values)\n",
    "            A.loc[l, v] = values[maxix]\n",
    "            B.loc[l, v] = V.index[maxix]\n",
    "            \n",
    "    path = [pe]\n",
    "    v = path[-1]\n",
    "    l = L\n",
    "    while l >= 2:\n",
    "        path.append(B.loc[l, v])\n",
    "        v = path[-1]\n",
    "        l -= 1\n",
    "    path.reverse()\n",
    "    return path"
   ]
  },
  {
   "cell_type": "markdown",
   "metadata": {},
   "source": [
    "Use integer linear programming (ILP) to find a simple path."
   ]
  },
  {
   "cell_type": "code",
   "execution_count": 75,
   "metadata": {},
   "outputs": [],
   "source": [
    "def find_ILP(V, E, ps, pe, L, withNodeWeight=False, alpha=0.5):\n",
    "    assert(isinstance(V, pd.DataFrame))\n",
    "    assert(isinstance(E, pd.DataFrame))\n",
    "    assert(ps in V.index)\n",
    "    assert(pe in V.index)\n",
    "    assert(2 < L <= V.index.shape[0])\n",
    "    if withNodeWeight == True:\n",
    "        assert(0 < alpha < 1)\n",
    "    beta = 1 - alpha\n",
    "    \n",
    "    p0 = str(ps); pN = str(pe); N = V.index.shape[0]\n",
    "    \n",
    "    # REF: pythonhosted.org/PuLP/index.html\n",
    "    pois = [str(p) for p in V.index] # create a string list for each POI\n",
    "    pb = pulp.LpProblem('MostLikelyTraj', pulp.LpMaximize) # create problem\n",
    "    # visit_i_j = 1 means POI i and j are visited in sequence\n",
    "    visit_vars = pulp.LpVariable.dicts('visit', (pois, pois), 0, 1, pulp.LpInteger) \n",
    "    # a dictionary contains all dummy variables\n",
    "    dummy_vars = pulp.LpVariable.dicts('u', [x for x in pois if x != p0], 2, N, pulp.LpInteger)\n",
    "    \n",
    "    # add objective\n",
    "    objlist = []\n",
    "    if withNodeWeight == True:\n",
    "        objlist.append(alpha * V.loc[int(p0), 'weight'])\n",
    "    for pi in [x for x in pois if x != pN]:     # from\n",
    "        for pj in [y for y in pois if y != p0]: # to\n",
    "            if withNodeWeight == True:\n",
    "                objlist.append(visit_vars[pi][pj] * (alpha * V.loc[int(pj), 'weight'] + beta * E.loc[int(pi), int(pj)]))\n",
    "            else:\n",
    "                objlist.append(visit_vars[pi][pj] * E.loc[int(pi), int(pj)])\n",
    "    pb += pulp.lpSum(objlist), 'Objective'\n",
    "    \n",
    "    # add constraints, each constraint should be in ONE line\n",
    "    pb += pulp.lpSum([visit_vars[p0][pj] for pj in pois if pj != p0]) == 1, 'StartAt_p0'\n",
    "    pb += pulp.lpSum([visit_vars[pi][pN] for pi in pois if pi != pN]) == 1, 'EndAt_pN'\n",
    "    if p0 != pN:\n",
    "        pb += pulp.lpSum([visit_vars[pi][p0] for pi in pois]) == 0, 'NoIncoming_p0'\n",
    "        pb += pulp.lpSum([visit_vars[pN][pj] for pj in pois]) == 0, 'NoOutgoing_pN'\n",
    "    pb += pulp.lpSum([visit_vars[pi][pj] for pi in pois if pi != pN for pj in pois if pj != p0]) == L-1, 'Length'\n",
    "    for pk in [x for x in pois if x not in {p0, pN}]:\n",
    "        pb += pulp.lpSum([visit_vars[pi][pk] for pi in pois if pi != pN]) == \\\n",
    "              pulp.lpSum([visit_vars[pk][pj] for pj in pois if pj != p0]), 'ConnectedAt_' + pk\n",
    "        pb += pulp.lpSum([visit_vars[pi][pk] for pi in pois if pi != pN]) <= 1, 'Enter_' + pk + '_AtMostOnce'\n",
    "        pb += pulp.lpSum([visit_vars[pk][pj] for pj in pois if pj != p0]) <= 1, 'Leave_' + pk + '_AtMostOnce'\n",
    "    for pi in [x for x in pois if x != p0]:\n",
    "        for pj in [y for y in pois if y != p0]:\n",
    "            pb += dummy_vars[pi] - dummy_vars[pj] + 1 <= (N - 1) * (1 - visit_vars[pi][pj]), \\\n",
    "                    'SubTourElimination_' + pi + '_' + pj\n",
    "    #pb.writeLP(\"traj_tmp.lp\")\n",
    "    # solve problem: solver should be available in PATH\n",
    "    if USE_GUROBI == True:\n",
    "        gurobi_options = [('TimeLimit', '7200'), ('Threads', str(N_JOBS)), ('NodefileStart', '0.2'), ('Cuts', '2')]\n",
    "        pb.solve(pulp.GUROBI_CMD(path='gurobi_cl', options=gurobi_options)) # GUROBI\n",
    "    else:\n",
    "#         pb.solve(pulp.COIN_CMD(path='cbc', options=['-threads', str(N_JOBS), '-strategy', '1', '-maxIt', '2000000']))#CBC\n",
    "#         pb.solve(pulp.getSolver('PULP_CBC_CMD', options=['-threads', str(N_JOBS), '-strategy', '1', '-maxIt', '2000000']))#CBC\n",
    "        pb.solve(pulp.getSolver('PULP_CBC_CMD'))#CBC\n",
    "    visit_mat = pd.DataFrame(data=np.zeros((len(pois), len(pois)), dtype=np.float), index=pois, columns=pois)\n",
    "    for pi in pois:\n",
    "        for pj in pois: visit_mat.loc[pi, pj] = visit_vars[pi][pj].varValue\n",
    "\n",
    "    # build the recommended trajectory\n",
    "    recseq = [p0]\n",
    "    while True:\n",
    "        pi = recseq[-1]\n",
    "        pj = visit_mat.loc[pi].idxmax()\n",
    "        assert(round(visit_mat.loc[pi, pj]) == 1)\n",
    "        recseq.append(pj)\n",
    "        if pj == pN: return [int(x) for x in recseq]"
   ]
  },
  {
   "cell_type": "markdown",
   "metadata": {},
   "source": [
    "Tune $\\alpha$ using a validation set based on performance of `Rank+Markov` in terms of `pairs-F1`:\n",
    "leave-one-out cross validation on validation set (with all short trajectories, i.e., length $\\le 2$, included when training)."
   ]
  },
  {
   "cell_type": "code",
   "execution_count": 76,
   "metadata": {},
   "outputs": [],
   "source": [
    "def cv_choose_alpha(alpha_set, validation_set, short_traj_set):\n",
    "    assert(len(set(validation_set) & set(short_traj_set)) == 0)  # NO intersection\n",
    "    best_score = 0\n",
    "    best_alpha = 0\n",
    "    cnt = 1; total = len(validation_set) * len(alpha_set)\n",
    "    for alpha_i in alpha_set:\n",
    "        scores = []\n",
    "        for i in range(len(validation_set)):\n",
    "            tid = validation_set[i]\n",
    "            te = traj_dict[tid]\n",
    "            assert(len(te) > 2)\n",
    "            \n",
    "            trajid_list_train = list(short_traj_set) + list(validation_set[:i]) + list(validation_set[i+1:])\n",
    "            poi_info = calc_poi_info(trajid_list_train, traj_all, poi_all)\n",
    "            \n",
    "            # start/end is not in training set\n",
    "            if not (te[0] in poi_info.index and te[-1] in poi_info.index): \n",
    "                print('Failed cross-validation instance:', te)\n",
    "                continue\n",
    "        \n",
    "            train_df = gen_train_df(trajid_list_train, traj_dict, poi_info, poi_clusters=POI_CLUSTERS, \\\n",
    "                                    cats=POI_CAT_LIST, clusters=POI_CLUSTER_LIST, n_jobs=N_JOBS)\n",
    "            ranksvm = RankSVM(ranksvm_dir, useLinear=False)\n",
    "            ranksvm.train(train_df, cost=RANKSVM_COST)\n",
    "            test_df = gen_test_df(te[0], te[-1], len(te), poi_info, poi_clusters=POI_CLUSTERS, \\\n",
    "                                  cats=POI_CAT_LIST, clusters=POI_CLUSTER_LIST)\n",
    "            rank_df = ranksvm.predict(test_df)\n",
    "\n",
    "            poi_logtransmat = gen_poi_logtransmat(trajid_list_train, set(poi_info.index), traj_dict, poi_info)\n",
    "            edges = poi_logtransmat.copy()\n",
    "            \n",
    "            nodes = rank_df.copy()\n",
    "            nodes['weight'] = np.log10(nodes['probability'])\n",
    "            nodes.drop('probability', axis=1, inplace=True)\n",
    "            comb = find_viterbi(nodes, edges, te[0], te[-1], len(te), withNodeWeight=True, alpha=alpha_i)\n",
    "            \n",
    "            scores.append(calc_pairsF1(te, comb))\n",
    "            \n",
    "            #print_progress(cnt, total); cnt += 1\n",
    "            \n",
    "        mean_score = np.mean(scores)\n",
    "        print('alpha:', alpha_i, ' mean pairs-F1:', mean_score)\n",
    "        if best_score > mean_score: continue\n",
    "        best_score = mean_score\n",
    "        best_alpha = alpha_i\n",
    "            \n",
    "    return best_alpha"
   ]
  },
  {
   "cell_type": "markdown",
   "metadata": {},
   "source": [
    "# 4. Trajectory Recommendation - Leave-one-out Evaluation"
   ]
  },
  {
   "cell_type": "markdown",
   "metadata": {},
   "source": [
    "Recommend trajectories by leveraging POI ranking."
   ]
  },
  {
   "cell_type": "code",
   "execution_count": 77,
   "metadata": {
    "scrolled": true
   },
   "outputs": [
    {
     "name": "stdout",
     "output_type": "stream",
     "text": [
      "[21, 8, 22, 6] #1 ->\n",
      "           Rank POP: [21, 8, 20, 6]\n",
      "           Rank POI: [21, 1, 17, 6]\n",
      "[21, 22, 3] #2 ->\n",
      "           Rank POP: [21, 8, 3]\n",
      "           Rank POI: [21, 1, 3]\n",
      "[2, 1, 8] #3 ->\n",
      "           Rank POP: [2, 20, 8]\n",
      "           Rank POI: [2, 1, 8]\n",
      "[22, 15, 12, 2] #4 ->\n",
      "           Rank POP: [22, 8, 20, 2]\n",
      "           Rank POI: [22, 1, 17, 2]\n",
      "[20, 24, 21] #5 ->\n",
      "           Rank POP: [20, 8, 21]\n",
      "           Rank POI: [20, 1, 21]\n",
      "[10, 3, 23, 20, 21] #6 ->\n",
      "           Rank POP: [10, 8, 20, 6, 21]\n",
      "           Rank POI: [10, 1, 17, 28, 21]\n",
      "[6, 20, 5] #7 ->\n",
      "           Rank POP: [6, 8, 5]\n",
      "           Rank POI: [6, 1, 5]\n",
      "[23, 22, 20] #8 ->\n",
      "           Rank POP: [23, 8, 20]\n",
      "           Rank POI: [23, 1, 20]\n",
      "[20, 17, 8] #9 ->\n",
      "           Rank POP: [20, 6, 8]\n",
      "           Rank POI: [20, 1, 8]\n",
      "[8, 1, 22, 20, 21] #10 ->\n",
      "           Rank POP: [8, 20, 6, 26, 21]\n",
      "           Rank POI: [8, 1, 17, 28, 21]\n",
      "[2, 1, 28] #11 ->\n",
      "           Rank POP: [2, 8, 28]\n",
      "           Rank POI: [2, 1, 28]\n",
      "[5, 20, 21] #12 ->\n",
      "           Rank POP: [5, 8, 21]\n",
      "           Rank POI: [5, 1, 21]\n",
      "[2, 1, 22, 20, 8] #13 ->\n",
      "           Rank POP: [2, 20, 6, 26, 8]\n",
      "           Rank POI: [2, 1, 17, 28, 8]\n",
      "[10, 22, 7] #14 ->\n",
      "           Rank POP: [10, 8, 7]\n",
      "           Rank POI: [10, 1, 7]\n",
      "[8, 1, 2, 5] #15 ->\n",
      "           Rank POP: [8, 20, 6, 5]\n",
      "           Rank POI: [8, 1, 17, 5]\n",
      "[8, 21, 5] #16 ->\n",
      "           Rank POP: [8, 20, 5]\n",
      "           Rank POI: [8, 1, 5]\n",
      "[2, 1, 8] #17 ->\n",
      "           Rank POP: [2, 20, 8]\n",
      "           Rank POI: [2, 1, 8]\n",
      "[15, 8, 1, 6] #18 ->\n",
      "           Rank POP: [15, 8, 20, 6]\n",
      "           Rank POI: [15, 1, 17, 6]\n",
      "[25, 8, 22, 20] #19 ->\n",
      "           Rank POP: [25, 8, 6, 20]\n",
      "           Rank POI: [25, 1, 17, 20]\n",
      "[5, 28, 7] #20 ->\n",
      "           Rank POP: [5, 8, 7]\n",
      "           Rank POI: [5, 1, 7]\n",
      "[5, 6, 20, 23, 24] #21 ->\n",
      "           Rank POP: [5, 8, 20, 6, 24]\n",
      "           Rank POI: [5, 1, 17, 28, 24]\n",
      "[20, 6, 8] #22 ->\n",
      "           Rank POP: [20, 6, 8]\n",
      "           Rank POI: [20, 1, 8]\n",
      "[8, 21, 23, 22, 10] #23 ->\n",
      "           Rank POP: [8, 20, 6, 26, 10]\n",
      "           Rank POI: [8, 1, 17, 28, 10]\n",
      "[20, 8, 6] #24 ->\n",
      "           Rank POP: [20, 8, 6]\n",
      "           Rank POI: [20, 1, 6]\n",
      "[24, 15, 21] #25 ->\n",
      "           Rank POP: [24, 8, 21]\n",
      "           Rank POI: [24, 1, 21]\n",
      "[20, 24, 5] #26 ->\n",
      "           Rank POP: [20, 8, 5]\n",
      "           Rank POI: [20, 1, 5]\n",
      "[5, 2, 1] #27 ->\n",
      "           Rank POP: [5, 8, 1]\n",
      "           Rank POI: [5, 17, 1]\n",
      "[1, 2, 20] #28 ->\n",
      "           Rank POP: [1, 8, 20]\n",
      "           Rank POI: [1, 17, 20]\n",
      "[21, 7, 20] #29 ->\n",
      "           Rank POP: [21, 8, 20]\n",
      "           Rank POI: [21, 1, 20]\n",
      "[20, 24, 22, 3, 10, 15] #30 ->\n",
      "           Rank POP: [20, 8, 6, 26, 1, 15]\n",
      "           Rank POI: [20, 1, 17, 28, 27, 15]\n",
      "[18, 22, 6] #31 ->\n",
      "           Rank POP: [18, 8, 6]\n",
      "           Rank POI: [18, 1, 6]\n",
      "[20, 11, 2, 1, 6] #32 ->\n",
      "           Rank POP: [20, 8, 26, 1, 6]\n",
      "           Rank POI: [20, 1, 17, 28, 6]\n",
      "[5, 20, 6] #33 ->\n",
      "           Rank POP: [5, 8, 6]\n",
      "           Rank POI: [5, 1, 6]\n",
      "[22, 8, 21] #34 ->\n",
      "           Rank POP: [22, 8, 21]\n",
      "           Rank POI: [22, 1, 21]\n",
      "[28, 21, 20] #35 ->\n",
      "           Rank POP: [28, 8, 20]\n",
      "           Rank POI: [28, 1, 20]\n",
      "[20, 21, 15, 22, 3] #36 ->\n",
      "           Rank POP: [20, 8, 6, 26, 3]\n",
      "           Rank POI: [20, 1, 17, 28, 3]\n",
      "[8, 2, 1] #37 ->\n",
      "           Rank POP: [8, 20, 1]\n",
      "           Rank POI: [8, 17, 1]\n",
      "[6, 20, 21] #38 ->\n",
      "           Rank POP: [6, 8, 21]\n",
      "           Rank POI: [6, 1, 21]\n",
      "[16, 5, 6] #39 ->\n",
      "           Rank POP: [16, 8, 6]\n",
      "           Rank POI: [16, 1, 6]\n",
      "[1, 2, 28] #40 ->\n",
      "           Rank POP: [1, 8, 28]\n",
      "           Rank POI: [1, 17, 28]\n",
      "[5, 28, 21] #41 ->\n",
      "           Rank POP: [5, 8, 21]\n",
      "           Rank POI: [5, 1, 21]\n",
      "[21, 23, 20] #42 ->\n",
      "           Rank POP: [21, 8, 20]\n",
      "           Rank POI: [21, 1, 20]\n",
      "[22, 6, 5] #43 ->\n",
      "           Rank POP: [22, 8, 5]\n",
      "           Rank POI: [22, 1, 5]\n",
      "[15, 10, 8] #44 ->\n",
      "           Rank POP: [15, 20, 8]\n",
      "           Rank POI: [15, 1, 8]\n",
      "[20, 22, 2] #45 ->\n",
      "           Rank POP: [20, 8, 2]\n",
      "           Rank POI: [20, 1, 2]\n",
      "[5, 8, 15, 22] #46 ->\n",
      "           Rank POP: [5, 8, 20, 22]\n",
      "           Rank POI: [5, 1, 17, 22]\n",
      "[8, 15, 22, 6] #47 ->\n",
      "           Rank POP: [8, 20, 26, 6]\n",
      "           Rank POI: [8, 1, 17, 6]\n"
     ]
    }
   ],
   "source": [
    "if run_rank == True:\n",
    "    recdict_rank = dict()\n",
    "    cnt = 1\n",
    "    for i in range(len(trajid_set_all)):\n",
    "        tid = trajid_set_all[i]\n",
    "        te = traj_dict[tid]\n",
    "        \n",
    "        # trajectory is too short\n",
    "        if len(te) < 3: continue\n",
    "            \n",
    "        trajid_list_train = trajid_set_all[:i] + trajid_set_all[i+1:]\n",
    "        \n",
    "        poi_info = calc_poi_info(trajid_list_train, traj_all, poi_all)\n",
    "           \n",
    "        # start/end is not in training set\n",
    "        if not (te[0] in poi_info.index and te[-1] in poi_info.index): continue\n",
    "        \n",
    "        print(te, '#%d ->' % cnt); cnt += 1; sys.stdout.flush()\n",
    "        \n",
    "        # recommendation leveraging ranking\n",
    "        train_df = gen_train_df(trajid_list_train, traj_dict, poi_info, poi_clusters=POI_CLUSTERS, \\\n",
    "                                cats=POI_CAT_LIST, clusters=POI_CLUSTER_LIST, n_jobs=N_JOBS)\n",
    "        ranksvm = RankSVM(ranksvm_dir, useLinear=False)\n",
    "        ranksvm.train(train_df, cost=RANKSVM_COST)\n",
    "        test_df = gen_test_df(te[0], te[-1], len(te), poi_info, poi_clusters=POI_CLUSTERS, \\\n",
    "                              cats=POI_CAT_LIST, clusters=POI_CLUSTER_LIST)\n",
    "        rank_df = ranksvm.predict(test_df)\n",
    "\n",
    "        # POI popularity based ranking\n",
    "        poi_info.sort_values(by='popularity', ascending=False, inplace=True)\n",
    "        ranks1 = poi_info.index.tolist()\n",
    "        rank_pop = [te[0]] + [x for x in ranks1 if x not in {te[0], te[-1]}][:len(te)-2] + [te[-1]]\n",
    "\n",
    "        # POI feature based ranking\n",
    "        rank_df.sort_values(by='rank', ascending=False, inplace=True)\n",
    "        ranks2 = rank_df.index.tolist()\n",
    "        rank_feature = [te[0]] + [x for x in ranks2 if x not in {te[0], te[-1]}][:len(te)-2] + [te[-1]]\n",
    "\n",
    "        recdict_rank[tid] = {'REAL':te, 'REC_POP':rank_pop, 'REC_FEATURE':rank_feature}\n",
    "        print(' '*10, 'Rank POP:', rank_pop);print(' '*10, 'Rank POI:', rank_feature);sys.stdout.flush()"
   ]
  },
  {
   "cell_type": "markdown",
   "metadata": {},
   "source": [
    "Recommend trajectories by leveraging POI-POI transition probabilities."
   ]
  },
  {
   "cell_type": "code",
   "execution_count": 78,
   "metadata": {
    "scrolled": true
   },
   "outputs": [
    {
     "name": "stdout",
     "output_type": "stream",
     "text": [
      "[21, 8, 22, 6] #1 ->\n",
      "           Tran  DP: [21, 20, 22, 6]\n",
      "           Tran ILP: [21, 20, 22, 6]\n",
      "[21, 22, 3] #2 ->\n",
      "           Tran  DP: [21, 20, 3]\n",
      "           Tran ILP: [21, 20, 3]\n",
      "[2, 1, 8] #3 ->\n",
      "           Tran  DP: [2, 1, 8]\n",
      "           Tran ILP: [2, 1, 8]\n",
      "[22, 15, 12, 2] #4 ->\n",
      "           Tran  DP: [22, 6, 1, 2]\n",
      "           Tran ILP: [22, 6, 1, 2]\n",
      "[20, 24, 21] #5 ->\n",
      "           Tran  DP: [20, 22, 21]\n",
      "           Tran ILP: [20, 22, 21]\n",
      "[10, 3, 23, 20, 21] #6 ->\n",
      "           Tran  DP: [10, 22, 20, 22, 21]\n",
      "           Tran ILP: [10, 3, 22, 20, 21]\n",
      "[6, 20, 5] #7 ->\n",
      "           Tran  DP: [6, 3, 5]\n",
      "           Tran ILP: [6, 3, 5]\n",
      "[23, 22, 20] #8 ->\n",
      "           Tran  DP: [23, 21, 20]\n",
      "           Tran ILP: [23, 21, 20]\n",
      "[20, 17, 8] #9 ->\n",
      "           Tran  DP: [20, 21, 8]\n",
      "           Tran ILP: [20, 21, 8]\n",
      "[8, 1, 22, 20, 21] #10 ->\n",
      "           Tran  DP: [8, 20, 22, 20, 21]\n",
      "           Tran ILP: [8, 6, 22, 20, 21]\n",
      "[2, 1, 28] #11 ->\n",
      "           Tran  DP: [2, 1, 28]\n",
      "           Tran ILP: [2, 1, 28]\n",
      "[5, 20, 21] #12 ->\n",
      "           Tran  DP: [5, 6, 21]\n",
      "           Tran ILP: [5, 6, 21]\n",
      "[2, 1, 22, 20, 8] #13 ->\n",
      "           Tran  DP: [2, 1, 4, 1, 8]\n",
      "           Tran ILP: [2, 1, 4, 6, 8]\n",
      "[10, 22, 7] #14 ->\n",
      "           Tran  DP: [10, 22, 7]\n",
      "           Tran ILP: [10, 22, 7]\n",
      "[8, 1, 2, 5] #15 ->\n",
      "           Tran  DP: [8, 6, 3, 5]\n",
      "           Tran ILP: [8, 6, 3, 5]\n",
      "[8, 21, 5] #16 ->\n",
      "           Tran  DP: [8, 6, 5]\n",
      "           Tran ILP: [8, 6, 5]\n",
      "[2, 1, 8] #17 ->\n",
      "           Tran  DP: [2, 1, 8]\n",
      "           Tran ILP: [2, 1, 8]\n",
      "[15, 8, 1, 6] #18 ->\n",
      "           Tran  DP: [15, 21, 20, 6]\n",
      "           Tran ILP: [15, 20, 21, 6]\n",
      "[25, 8, 22, 20] #19 ->\n",
      "           Tran  DP: [25, 22, 21, 20]\n",
      "           Tran ILP: [25, 22, 21, 20]\n",
      "[5, 28, 7] #20 ->\n",
      "           Tran  DP: [5, 6, 7]\n",
      "           Tran ILP: [5, 6, 7]\n",
      "[5, 6, 20, 23, 24] #21 ->\n",
      "           Tran  DP: [5, 6, 21, 20, 24]\n",
      "           Tran ILP: [5, 6, 21, 20, 24]\n",
      "[20, 6, 8] #22 ->\n",
      "           Tran  DP: [20, 21, 8]\n",
      "           Tran ILP: [20, 21, 8]\n",
      "[8, 21, 23, 22, 10] #23 ->\n",
      "           Tran  DP: [8, 20, 22, 20, 10]\n",
      "           Tran ILP: [8, 20, 21, 22, 10]\n",
      "[20, 8, 6] #24 ->\n",
      "           Tran  DP: [20, 21, 6]\n",
      "           Tran ILP: [20, 21, 6]\n",
      "[24, 15, 21] #25 ->\n",
      "           Tran  DP: [24, 20, 21]\n",
      "           Tran ILP: [24, 20, 21]\n",
      "[20, 24, 5] #26 ->\n",
      "           Tran  DP: [20, 6, 5]\n",
      "           Tran ILP: [20, 6, 5]\n",
      "[5, 2, 1] #27 ->\n",
      "           Tran  DP: [5, 6, 1]\n",
      "           Tran ILP: [5, 6, 1]\n",
      "[1, 2, 20] #28 ->\n",
      "           Tran  DP: [1, 6, 20]\n",
      "           Tran ILP: [1, 6, 20]\n",
      "[21, 7, 20] #29 ->\n",
      "           Tran  DP: [21, 22, 20]\n",
      "           Tran ILP: [21, 22, 20]\n",
      "[20, 24, 22, 3, 10, 15] #30 ->\n",
      "           Tran  DP: [20, 21, 22, 21, 22, 15]\n",
      "           Tran ILP: [20, 21, 22, 6, 8, 15]\n",
      "[18, 22, 6] #31 ->\n",
      "           Tran  DP: [18, 8, 6]\n",
      "           Tran ILP: [18, 8, 6]\n",
      "[20, 11, 2, 1, 6] #32 ->\n",
      "           Tran  DP: [20, 21, 22, 21, 6]\n",
      "           Tran ILP: [20, 21, 22, 3, 6]\n",
      "[5, 20, 6] #33 ->\n",
      "           Tran  DP: [5, 3, 6]\n",
      "           Tran ILP: [5, 3, 6]\n",
      "[22, 8, 21] #34 ->\n",
      "           Tran  DP: [22, 20, 21]\n",
      "           Tran ILP: [22, 20, 21]\n",
      "[28, 21, 20] #35 ->\n",
      "           Tran  DP: [28, 21, 20]\n",
      "           Tran ILP: [28, 21, 20]\n",
      "[20, 21, 15, 22, 3] #36 ->\n",
      "           Tran  DP: [20, 21, 22, 21, 3]\n",
      "           Tran ILP: [20, 21, 22, 6, 3]\n",
      "[8, 2, 1] #37 ->\n",
      "           Tran  DP: [8, 6, 1]\n",
      "           Tran ILP: [8, 6, 1]\n",
      "[6, 20, 21] #38 ->\n",
      "           Tran  DP: [6, 20, 21]\n",
      "           Tran ILP: [6, 20, 21]\n",
      "[16, 5, 6] #39 ->\n",
      "           Tran  DP: [16, 3, 6]\n",
      "           Tran ILP: [16, 3, 6]\n",
      "[1, 2, 28] #40 ->\n",
      "           Tran  DP: [1, 6, 28]\n",
      "           Tran ILP: [1, 6, 28]\n",
      "[5, 28, 21] #41 ->\n",
      "           Tran  DP: [5, 6, 21]\n",
      "           Tran ILP: [5, 6, 21]\n",
      "[21, 23, 20] #42 ->\n",
      "           Tran  DP: [21, 22, 20]\n",
      "           Tran ILP: [21, 22, 20]\n",
      "[22, 6, 5] #43 ->\n",
      "           Tran  DP: [22, 6, 5]\n",
      "           Tran ILP: [22, 6, 5]\n",
      "[15, 10, 8] #44 ->\n",
      "           Tran  DP: [15, 22, 8]\n",
      "           Tran ILP: [15, 22, 8]\n",
      "[20, 22, 2] #45 ->\n",
      "           Tran  DP: [20, 6, 2]\n",
      "           Tran ILP: [20, 6, 2]\n",
      "[5, 8, 15, 22] #46 ->\n",
      "           Tran  DP: [5, 6, 20, 22]\n",
      "           Tran ILP: [5, 6, 21, 22]\n",
      "[8, 15, 22, 6] #47 ->\n",
      "           Tran  DP: [8, 21, 20, 6]\n",
      "           Tran ILP: [8, 20, 21, 6]\n"
     ]
    }
   ],
   "source": [
    "if run_tran == True:\n",
    "    recdict_tran = dict()\n",
    "    cnt = 1\n",
    "    for i in range(len(trajid_set_all)):\n",
    "        tid = trajid_set_all[i]\n",
    "        te = traj_dict[tid]\n",
    "        \n",
    "        # trajectory is too short\n",
    "        if len(te) < 3: continue\n",
    "            \n",
    "        trajid_list_train = trajid_set_all[:i] + trajid_set_all[i+1:]\n",
    "        \n",
    "        poi_info = calc_poi_info(trajid_list_train, traj_all, poi_all)\n",
    "           \n",
    "        # start/end is not in training set\n",
    "        if not (te[0] in poi_info.index and te[-1] in poi_info.index): continue\n",
    "        \n",
    "        print(te, '#%d ->' % cnt); cnt += 1; sys.stdout.flush()\n",
    "        \n",
    "        # recommendation leveraging transition probabilities\n",
    "        poi_logtransmat = gen_poi_logtransmat(trajid_list_train, set(poi_info.index), traj_dict, poi_info)\n",
    "        edges = poi_logtransmat.copy()\n",
    "\n",
    "        tran_dp = find_viterbi(poi_info.copy(), edges.copy(), te[0], te[-1], len(te))\n",
    "        tran_ilp = find_ILP(poi_info.copy(), edges.copy(), te[0], te[-1], len(te))\n",
    "\n",
    "        recdict_tran[tid] = {'REAL':te, 'REC_DP':tran_dp, 'REC_ILP':tran_ilp}\n",
    "        print(' '*10, 'Tran  DP:', tran_dp); print(' '*10, 'Tran ILP:', tran_ilp); sys.stdout.flush()"
   ]
  },
  {
   "cell_type": "markdown",
   "metadata": {},
   "source": [
    "Recommend trajectories by leveraging both POI ranking and POI-POI transition probabilities."
   ]
  },
  {
   "cell_type": "code",
   "execution_count": 79,
   "metadata": {
    "scrolled": true
   },
   "outputs": [
    {
     "name": "stdout",
     "output_type": "stream",
     "text": [
      "alpha: 0.1  mean pairs-F1: 0.3768116015454997\n",
      "alpha: 0.3  mean pairs-F1: 0.3768116015454997\n",
      "alpha: 0.5  mean pairs-F1: 0.3768116015454997\n",
      "alpha: 0.7  mean pairs-F1: 0.3768116015454997\n",
      "alpha: 0.9  mean pairs-F1: 0.3768116015454997\n",
      "alpha: 0.9\n",
      "[15, 8, 1, 6] #1 ->\n",
      "           Comb  DP: [15, 21, 20, 6]\n",
      "           Comb ILP: [15, 20, 21, 6]\n",
      "[23, 22, 20] #2 ->\n",
      "           Comb  DP: [23, 21, 20]\n",
      "           Comb ILP: [23, 21, 20]\n",
      "[5, 20, 21] #3 ->\n",
      "           Comb  DP: [5, 6, 21]\n",
      "           Comb ILP: [5, 6, 21]\n",
      "[15, 10, 8] #4 ->\n",
      "           Comb  DP: [15, 22, 8]\n",
      "           Comb ILP: [15, 22, 8]\n",
      "[20, 6, 8] #5 ->\n",
      "           Comb  DP: [20, 21, 8]\n",
      "           Comb ILP: [20, 21, 8]\n",
      "[5, 28, 7] #6 ->\n",
      "           Comb  DP: [5, 6, 7]\n",
      "           Comb ILP: [5, 6, 7]\n",
      "[24, 15, 21] #7 ->\n",
      "           Comb  DP: [24, 20, 21]\n",
      "           Comb ILP: [24, 20, 21]\n",
      "[22, 6, 5] #8 ->\n",
      "           Comb  DP: [22, 6, 5]\n",
      "           Comb ILP: [22, 6, 5]\n",
      "[20, 22, 2] #9 ->\n",
      "           Comb  DP: [20, 6, 2]\n",
      "           Comb ILP: [20, 6, 2]\n",
      "[8, 21, 5] #10 ->\n",
      "           Comb  DP: [8, 6, 5]\n",
      "           Comb ILP: [8, 6, 5]\n",
      "[21, 22, 3] #11 ->\n",
      "           Comb  DP: [21, 20, 3]\n",
      "           Comb ILP: [21, 20, 3]\n",
      "[1, 2, 20] #12 ->\n",
      "           Comb  DP: [1, 6, 20]\n",
      "           Comb ILP: [1, 6, 20]\n",
      "[20, 8, 6] #13 ->\n",
      "           Comb  DP: [20, 21, 6]\n",
      "           Comb ILP: [20, 21, 6]\n",
      "[2, 1, 8] #14 ->\n",
      "           Comb  DP: [2, 1, 8]\n",
      "           Comb ILP: [2, 1, 8]\n",
      "[8, 2, 1] #15 ->\n",
      "           Comb  DP: [8, 6, 1]\n",
      "           Comb ILP: [8, 6, 1]\n",
      "[5, 20, 6] #16 ->\n",
      "           Comb  DP: [5, 3, 6]\n",
      "           Comb ILP: [5, 3, 6]\n",
      "[20, 24, 21] #17 ->\n",
      "           Comb  DP: [20, 22, 21]\n",
      "           Comb ILP: [20, 22, 21]\n",
      "[8, 1, 22, 20, 21] #18 ->\n",
      "           Comb  DP: [8, 20, 22, 20, 21]\n",
      "           Comb ILP: [8, 6, 22, 20, 21]\n",
      "[8, 1, 2, 5] #19 ->\n",
      "           Comb  DP: [8, 3, 6, 5]\n",
      "           Comb ILP: [8, 6, 3, 5]\n",
      "[21, 23, 20] #20 ->\n",
      "           Comb  DP: [21, 22, 20]\n",
      "           Comb ILP: [21, 22, 20]\n",
      "[22, 8, 21] #21 ->\n",
      "           Comb  DP: [22, 20, 21]\n",
      "           Comb ILP: [22, 20, 21]\n",
      "[2, 1, 22, 20, 8] #22 ->\n",
      "           Comb  DP: [2, 1, 4, 1, 8]\n",
      "           Comb ILP: [2, 1, 4, 6, 8]\n",
      "[16, 5, 6] #23 ->\n",
      "           Comb  DP: [16, 3, 6]\n",
      "           Comb ILP: [16, 3, 6]\n",
      "[2, 1, 8] #24 ->\n",
      "           Comb  DP: [2, 1, 8]\n",
      "           Comb ILP: [2, 1, 8]\n",
      "alpha: 0.1  mean pairs-F1: 0.45694445197780925\n",
      "alpha: 0.3  mean pairs-F1: 0.45694445197780925\n",
      "alpha: 0.5  mean pairs-F1: 0.45694445197780925\n",
      "alpha: 0.7  mean pairs-F1: 0.45694445197780925\n",
      "alpha: 0.9  mean pairs-F1: 0.45694445197780925\n",
      "alpha: 0.9\n",
      "[6, 20, 5] #25 ->\n",
      "           Comb  DP: [6, 3, 5]\n",
      "           Comb ILP: [6, 3, 5]\n",
      "[21, 8, 22, 6] #26 ->\n",
      "           Comb  DP: [21, 20, 22, 6]\n",
      "           Comb ILP: [21, 20, 22, 6]\n",
      "[6, 20, 21] #27 ->\n",
      "           Comb  DP: [6, 20, 21]\n",
      "           Comb ILP: [6, 20, 21]\n",
      "[20, 21, 15, 22, 3] #28 ->\n",
      "           Comb  DP: [20, 21, 22, 21, 3]\n",
      "           Comb ILP: [20, 21, 22, 6, 3]\n",
      "[22, 15, 12, 2] #29 ->\n",
      "           Comb  DP: [22, 6, 1, 2]\n",
      "           Comb ILP: [22, 6, 1, 2]\n",
      "[1, 2, 28] #30 ->\n",
      "           Comb  DP: [1, 6, 28]\n",
      "           Comb ILP: [1, 6, 28]\n",
      "[18, 22, 6] #31 ->\n",
      "           Comb  DP: [18, 8, 6]\n",
      "           Comb ILP: [18, 8, 6]\n",
      "[8, 15, 22, 6] #32 ->\n",
      "           Comb  DP: [8, 21, 20, 6]\n",
      "           Comb ILP: [8, 20, 21, 6]\n",
      "[25, 8, 22, 20] #33 ->\n",
      "           Comb  DP: [25, 22, 21, 20]\n",
      "           Comb ILP: [25, 22, 21, 20]\n",
      "[5, 28, 21] #34 ->\n",
      "           Comb  DP: [5, 6, 21]\n",
      "           Comb ILP: [5, 6, 21]\n",
      "[5, 8, 15, 22] #35 ->\n",
      "           Comb  DP: [5, 6, 20, 22]\n",
      "           Comb ILP: [5, 6, 20, 22]\n",
      "[8, 21, 23, 22, 10] #36 ->\n",
      "           Comb  DP: [8, 20, 22, 20, 10]\n",
      "           Comb ILP: [8, 20, 21, 22, 10]\n",
      "[20, 24, 5] #37 ->\n",
      "           Comb  DP: [20, 6, 5]\n",
      "           Comb ILP: [20, 6, 5]\n",
      "[20, 24, 22, 3, 10, 15] #38 ->\n",
      "           Comb  DP: [20, 21, 22, 21, 22, 15]\n",
      "           Comb ILP: [20, 21, 22, 6, 8, 15]\n",
      "[5, 6, 20, 23, 24] #39 ->\n",
      "           Comb  DP: [5, 6, 21, 20, 24]\n",
      "           Comb ILP: [5, 6, 21, 20, 24]\n",
      "[21, 7, 20] #40 ->\n",
      "           Comb  DP: [21, 22, 20]\n",
      "           Comb ILP: [21, 22, 20]\n",
      "[10, 3, 23, 20, 21] #41 ->\n",
      "           Comb  DP: [10, 22, 20, 22, 21]\n",
      "           Comb ILP: [10, 3, 22, 20, 21]\n",
      "[5, 2, 1] #42 ->\n",
      "           Comb  DP: [5, 6, 1]\n",
      "           Comb ILP: [5, 6, 1]\n",
      "[28, 21, 20] #43 ->\n",
      "           Comb  DP: [28, 21, 20]\n",
      "           Comb ILP: [28, 21, 20]\n",
      "[20, 17, 8] #44 ->\n",
      "           Comb  DP: [20, 21, 8]\n",
      "           Comb ILP: [20, 21, 8]\n",
      "[10, 22, 7] #45 ->\n",
      "           Comb  DP: [10, 22, 7]\n",
      "           Comb ILP: [10, 22, 7]\n",
      "[2, 1, 28] #46 ->\n",
      "           Comb  DP: [2, 1, 28]\n",
      "           Comb ILP: [2, 1, 28]\n",
      "[20, 11, 2, 1, 6] #47 ->\n",
      "           Comb  DP: [20, 21, 22, 21, 6]\n",
      "           Comb ILP: [20, 21, 22, 3, 6]\n"
     ]
    }
   ],
   "source": [
    "if run_comb == True:\n",
    "    short_traj_set = list(set(trajid_set_all) - set(PART1) - set(PART2))  # assume NO duplicated trajID\n",
    "    recdict_comb = dict()\n",
    "    cnt = 1\n",
    "    settings = [(PART1.copy(), PART2.copy()), (PART2.copy(), PART1.copy())]\n",
    "    for (validation_set, test_set) in settings:\n",
    "        # use validation set to tune alpha\n",
    "        alpha_cv = cv_choose_alpha(ALPHA_SET, validation_set, short_traj_set)\n",
    "        print('alpha:', alpha_cv)\n",
    "        \n",
    "        # leave-one-out cross validation on test set\n",
    "        # NOTE: validation set as well as short trajectories are included when training\n",
    "        for i in range(len(test_set)):\n",
    "            tid = test_set[i]\n",
    "            te = traj_dict[tid]\n",
    "            assert(len(te) >= 3)\n",
    "            \n",
    "            trajid_list_train = list(short_traj_set) + list(validation_set) + list(test_set[:i]) + list(test_set[i+1:])\n",
    "            poi_info = calc_poi_info(trajid_list_train, traj_all, poi_all)\n",
    "           \n",
    "            # start/end is not in training set\n",
    "            if not (te[0] in poi_info.index and te[-1] in poi_info.index): continue\n",
    "\n",
    "            print(te, '#%d ->' % cnt); cnt += 1; sys.stdout.flush()\n",
    "        \n",
    "            train_df = gen_train_df(trajid_list_train, traj_dict, poi_info, poi_clusters=POI_CLUSTERS, \\\n",
    "                                    cats=POI_CAT_LIST, clusters=POI_CLUSTER_LIST, n_jobs=N_JOBS)\n",
    "            ranksvm = RankSVM(ranksvm_dir, useLinear=False)\n",
    "            ranksvm.train(train_df, cost=RANKSVM_COST)\n",
    "            test_df = gen_test_df(te[0], te[-1], len(te), poi_info, poi_clusters=POI_CLUSTERS, \\\n",
    "                                  cats=POI_CAT_LIST, clusters=POI_CLUSTER_LIST)\n",
    "            rank_df = ranksvm.predict(test_df)\n",
    "            \n",
    "            poi_logtransmat = gen_poi_logtransmat(trajid_list_train, set(poi_info.index), traj_dict, poi_info)\n",
    "            edges = poi_logtransmat.copy()\n",
    "\n",
    "            # recommendation leveraging both ranking and transitions\n",
    "            nodes = rank_df.copy()\n",
    "            nodes['weight'] = np.log10(nodes['probability'])\n",
    "            nodes.drop('probability', axis=1, inplace=True)\n",
    "            comb_dp = find_viterbi(nodes.copy(), edges.copy(), te[0], te[-1],len(te),withNodeWeight=True,alpha=alpha_cv)\n",
    "            comb_ilp = find_ILP(nodes, edges, te[0], te[-1], len(te), withNodeWeight=True, alpha=alpha_cv)\n",
    "\n",
    "            recdict_comb[tid] = {'REAL':te, 'REC_DP':comb_dp, 'REC_ILP':comb_ilp}\n",
    "            print(' '*10, 'Comb  DP:', comb_dp); print(' '*10, 'Comb ILP:', comb_ilp); sys.stdout.flush()"
   ]
  },
  {
   "cell_type": "code",
   "execution_count": 80,
   "metadata": {},
   "outputs": [
    {
     "name": "stdout",
     "output_type": "stream",
     "text": [
      "Rank POP: F1 (0.663, 0.125), pairsF1 (0.365, 0.190)\n",
      "Rank FOI: F1 (0.640, 0.135), pairsF1 (0.338, 0.197)\n",
      "Tran  DP: F1 (0.697, 0.150), pairsF1 (0.445, 0.266)\n",
      "Tran ILP: F1 (0.706, 0.150), pairsF1 (0.442, 0.260)\n",
      "Comb  DP: F1 (0.697, 0.150), pairsF1 (0.445, 0.266)\n",
      "Comb ILP: F1 (0.706, 0.150), pairsF1 (0.442, 0.260)\n"
     ]
    }
   ],
   "source": [
    "if run_rank == True:\n",
    "    F11_rank = []; F12_rank = []; pF11_rank = []; pF12_rank = []\n",
    "    for key in sorted(recdict_rank.keys()):\n",
    "        F11_rank.append(calc_F1(recdict_rank[key]['REAL'], recdict_rank[key]['REC_POP']))\n",
    "        F12_rank.append(calc_F1(recdict_rank[key]['REAL'], recdict_rank[key]['REC_FEATURE']))\n",
    "        pF11_rank.append(calc_pairsF1(recdict_rank[key]['REAL'], recdict_rank[key]['REC_POP']))\n",
    "        pF12_rank.append(calc_pairsF1(recdict_rank[key]['REAL'], recdict_rank[key]['REC_FEATURE']))\n",
    "    print('Rank POP: F1 (%.3f, %.3f), pairsF1 (%.3f, %.3f)' % \\\n",
    "          (np.mean(F11_rank), np.std(F11_rank), np.mean(pF11_rank), np.std(pF11_rank)))\n",
    "    print('Rank FOI: F1 (%.3f, %.3f), pairsF1 (%.3f, %.3f)' % \\\n",
    "          (np.mean(F12_rank), np.std(F12_rank), np.mean(pF12_rank), np.std(pF12_rank)))\n",
    "    \n",
    "if run_tran == True:\n",
    "    F11_tran = []; F12_tran = []; pF11_tran = []; pF12_tran = []\n",
    "    for tid in sorted(recdict_tran.keys()):\n",
    "        F11_tran.append(calc_F1(recdict_tran[tid]['REAL'], recdict_tran[tid]['REC_DP']))\n",
    "        F12_tran.append(calc_F1(recdict_tran[tid]['REAL'], recdict_tran[tid]['REC_ILP']))\n",
    "        pF11_tran.append(calc_pairsF1(recdict_tran[tid]['REAL'], recdict_tran[tid]['REC_DP']))\n",
    "        pF12_tran.append(calc_pairsF1(recdict_tran[tid]['REAL'], recdict_tran[tid]['REC_ILP']))\n",
    "    print('Tran  DP: F1 (%.3f, %.3f), pairsF1 (%.3f, %.3f)' % \\\n",
    "          (np.mean(F11_tran), np.std(F11_tran), np.mean(pF11_tran), np.std(pF11_tran)))\n",
    "    print('Tran ILP: F1 (%.3f, %.3f), pairsF1 (%.3f, %.3f)' % \\\n",
    "          (np.mean(F12_tran), np.std(F12_tran), np.mean(pF12_tran), np.std(pF12_tran)))\n",
    "\n",
    "if run_comb == True:\n",
    "    F11_comb = []; F12_comb = []; pF11_comb = []; pF12_comb = []\n",
    "    for tid in sorted(recdict_comb.keys()):\n",
    "        F11_comb.append(calc_F1(recdict_comb[tid]['REAL'], recdict_comb[tid]['REC_DP']))\n",
    "        F12_comb.append(calc_F1(recdict_comb[tid]['REAL'], recdict_comb[tid]['REC_ILP']))\n",
    "        pF11_comb.append(calc_pairsF1(recdict_comb[tid]['REAL'], recdict_comb[tid]['REC_DP']))\n",
    "        pF12_comb.append(calc_pairsF1(recdict_comb[tid]['REAL'], recdict_comb[tid]['REC_ILP']))\n",
    "    print('Comb  DP: F1 (%.3f, %.3f), pairsF1 (%.3f, %.3f)' % \\\n",
    "          (np.mean(F11_comb), np.std(F11_comb), np.mean(pF11_comb), np.std(pF11_comb)))\n",
    "    print('Comb ILP: F1 (%.3f, %.3f), pairsF1 (%.3f, %.3f)' % \\\n",
    "          (np.mean(F12_comb), np.std(F12_comb), np.mean(pF12_comb), np.std(pF12_comb)))"
   ]
  },
  {
   "cell_type": "markdown",
   "metadata": {},
   "source": [
    "Save recommendations."
   ]
  },
  {
   "cell_type": "code",
   "execution_count": 81,
   "metadata": {},
   "outputs": [],
   "source": [
    "if run_rank == True: pickle.dump(recdict_rank, open(frecdict_rank, 'bw'))\n",
    "if run_tran == True: pickle.dump(recdict_tran, open(frecdict_tran, 'bw'))\n",
    "if run_comb == True: pickle.dump(recdict_comb, open(frecdict_comb, 'bw'))"
   ]
  },
  {
   "cell_type": "markdown",
   "metadata": {},
   "source": [
    "# 5. Random Guessing"
   ]
  },
  {
   "cell_type": "markdown",
   "metadata": {},
   "source": [
    "Compare the two approaches of random guessing: combinatorial and experimental."
   ]
  },
  {
   "cell_type": "code",
   "execution_count": 82,
   "metadata": {},
   "outputs": [],
   "source": [
    "from scipy.special import comb\n",
    "from math import factorial\n",
    "def rand_guess(npoi, length):\n",
    "    assert(length <= npoi)\n",
    "    if length == npoi: return 1\n",
    "    N = npoi - 2\n",
    "    m = length - 2 # number of correct POIs\n",
    "    k = m\n",
    "    expected_F1 = 0\n",
    "    while k >= 0:\n",
    "        F1 = (k + 2) / length\n",
    "        prob = comb(m, k) * comb(N-m, m-k) / comb(N, m)\n",
    "        expected_F1 += prob * F1\n",
    "        k -= 1\n",
    "    return expected_F1"
   ]
  },
  {
   "cell_type": "markdown",
   "metadata": {},
   "source": [
    "Sanity check."
   ]
  },
  {
   "cell_type": "code",
   "execution_count": 83,
   "metadata": {},
   "outputs": [
    {
     "data": {
      "text/plain": [
       "0.5"
      ]
     },
     "execution_count": 83,
     "metadata": {},
     "output_type": "execute_result"
    }
   ],
   "source": [
    "rand_guess(20, 5)"
   ]
  },
  {
   "cell_type": "code",
   "execution_count": 84,
   "metadata": {},
   "outputs": [],
   "source": [
    "F1_rand1 = []\n",
    "F1_rand2 = []"
   ]
  },
  {
   "cell_type": "code",
   "execution_count": 85,
   "metadata": {},
   "outputs": [
    {
     "name": "stdout",
     "output_type": "stream",
     "text": [
      "[--------------------------------------------------------------------------------] 100%"
     ]
    }
   ],
   "source": [
    "if run_rand == True:\n",
    "    recdict_rand = dict()\n",
    "    cnt = 1\n",
    "    total0 = traj_all[traj_all['trajLen'] > 2]['trajID'].unique().shape[0]\n",
    "    poi_dict = dict()\n",
    "    for tid in trajid_set_all:\n",
    "        tr = extract_traj(tid, traj_all)\n",
    "        for poi in tr:\n",
    "            if poi in poi_dict: poi_dict[poi] += 1\n",
    "            else: poi_dict[poi] = 1\n",
    "    \n",
    "    for i in range(len(trajid_set_all)):\n",
    "        tid = trajid_set_all[i]\n",
    "        t = extract_traj(tid, traj_all)\n",
    "        \n",
    "        # trajectory is too short\n",
    "        if len(t) < 3: continue\n",
    "            \n",
    "        pois = [x for x in sorted(poi_dict.keys()) if poi_dict[x] > 1]\n",
    "            \n",
    "        # start/end is not in training set\n",
    "        if not (t[0] in pois and t[-1] in pois): continue\n",
    "        \n",
    "        print_progress(cnt, total0); cnt += 1\n",
    "        \n",
    "        F1_rand1.append(rand_guess(len(pois), len(t)))\n",
    "        pois1 = [x for x in pois if x not in {t[0], t[-1]}]\n",
    "        rec_ix = np.random.choice(len(pois1), len(t)-2, replace=False)\n",
    "        rec_rand = [t[0]] + list(np.array(pois1)[rec_ix]) + [t[-1]]\n",
    "        F1_rand2.append(calc_F1(t, rec_rand))\n",
    "        recdict_rand[tid] = {'REAL': t, 'REC_RAND': rec_rand}"
   ]
  },
  {
   "cell_type": "code",
   "execution_count": 86,
   "metadata": {},
   "outputs": [],
   "source": [
    "if run_rand == True:\n",
    "    pickle.dump(recdict_rand, open(frecdict_rand, 'wb'))"
   ]
  },
  {
   "cell_type": "code",
   "execution_count": 87,
   "metadata": {},
   "outputs": [
    {
     "name": "stdout",
     "output_type": "stream",
     "text": [
      "Combinatorial F1: mean=0.624, std=0.085\n",
      "Experimental  F1: mean=0.618, std=0.129\n"
     ]
    }
   ],
   "source": [
    "if run_rand == True:\n",
    "    print('Combinatorial F1: mean=%.3f, std=%.3f' % (np.mean(F1_rand1), np.std(F1_rand1)))\n",
    "    print('Experimental  F1: mean=%.3f, std=%.3f' % (np.mean(F1_rand2), np.std(F1_rand2)))"
   ]
  },
  {
   "cell_type": "code",
   "execution_count": null,
   "metadata": {},
   "outputs": [],
   "source": []
  }
 ],
 "metadata": {
  "kernelspec": {
   "display_name": "Python 3",
   "language": "python",
   "name": "python3"
  },
  "language_info": {
   "codemirror_mode": {
    "name": "ipython",
    "version": 3
   },
   "file_extension": ".py",
   "mimetype": "text/x-python",
   "name": "python",
   "nbconvert_exporter": "python",
   "pygments_lexer": "ipython3",
   "version": "3.7.6"
  }
 },
 "nbformat": 4,
 "nbformat_minor": 1
}
